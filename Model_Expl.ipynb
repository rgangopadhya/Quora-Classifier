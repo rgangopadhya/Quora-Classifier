{
 "metadata": {
  "name": "Model_Expl"
 },
 "nbformat": 3,
 "nbformat_minor": 0,
 "worksheets": [
  {
   "cells": [
    {
     "cell_type": "code",
     "collapsed": false,
     "input": [
      "from answer_classifier import *"
     ],
     "language": "python",
     "metadata": {},
     "outputs": [],
     "prompt_number": 1
    },
    {
     "cell_type": "code",
     "collapsed": false,
     "input": [
      "import sys\n",
      "sys.path.append(r'~/Documents/Projects/Quora/Answer_Classifier/Raw_Data')"
     ],
     "language": "python",
     "metadata": {},
     "outputs": [],
     "prompt_number": 2
    },
    {
     "cell_type": "code",
     "collapsed": false,
     "input": [
      "f = open('Raw_Data/input00.txt')\n",
      "M, N, q, tset, pset = import_data(f)\n",
      "f.close()"
     ],
     "language": "python",
     "metadata": {},
     "outputs": [],
     "prompt_number": 3
    },
    {
     "cell_type": "code",
     "collapsed": false,
     "input": [
      "training_set = pd.DataFrame(tset).set_index('ID')"
     ],
     "language": "python",
     "metadata": {},
     "outputs": [],
     "prompt_number": 4
    },
    {
     "cell_type": "code",
     "collapsed": false,
     "input": [
      "training_set.ix[0]"
     ],
     "language": "python",
     "metadata": {},
     "outputs": [
      {
       "output_type": "pyout",
       "prompt_number": 5,
       "text": [
        "F1       1.208762e+13\n",
        "F10                 0\n",
        "F11          3.850148\n",
        "F12                 0\n",
        "F13                 1\n",
        "F14                 0\n",
        "F15                 0\n",
        "F16                 1\n",
        "F17                 1\n",
        "F18                 0\n",
        "F19                 0\n",
        "F2           4.797982\n",
        "F20                14\n",
        "F21           4.65396\n",
        "F22                 0\n",
        "F23                 0\n",
        "F3                  1\n",
        "F4           4.990433\n",
        "F5            6.49224\n",
        "F6                 80\n",
        "F7                  0\n",
        "F8                  0\n",
        "F9                  0\n",
        "Label              +1\n",
        "Name: Nt8FJ, dtype: object"
       ]
      }
     ],
     "prompt_number": 5
    },
    {
     "cell_type": "code",
     "collapsed": false,
     "input": [
      "predict_set = pd.DataFrame(pset).set_index('ID')"
     ],
     "language": "python",
     "metadata": {},
     "outputs": [],
     "prompt_number": 6
    },
    {
     "cell_type": "code",
     "collapsed": false,
     "input": [
      "from sklearn.linear_model import LogisticRegression\n",
      "from sklearn.preprocessing import *\n",
      "features = [\"F\" + str(j) for j in xrange(1, M+1)]"
     ],
     "language": "python",
     "metadata": {},
     "outputs": [],
     "prompt_number": 7
    },
    {
     "cell_type": "code",
     "collapsed": false,
     "input": [
      "scale = Scaler().fit(training_set[features])\n",
      "training_set[features] = scale.transform(training_set[features])\n",
      "predict_set[features] = scale.transform(predict_set[features])"
     ],
     "language": "python",
     "metadata": {},
     "outputs": [],
     "prompt_number": 8
    },
    {
     "cell_type": "code",
     "collapsed": false,
     "input": [
      "logit = LogisticRegression(C=1000, penalty='l2', tol=0.01)"
     ],
     "language": "python",
     "metadata": {},
     "outputs": [],
     "prompt_number": 9
    },
    {
     "cell_type": "code",
     "collapsed": false,
     "input": [
      "logit.fit(training_set[features], training_set['Label'] == \"+1\")"
     ],
     "language": "python",
     "metadata": {},
     "outputs": [
      {
       "output_type": "pyout",
       "prompt_number": 10,
       "text": [
        "LogisticRegression(C=1000, class_weight=None, dual=False, fit_intercept=True,\n",
        "          intercept_scaling=1, penalty='l2', tol=0.01)"
       ]
      }
     ],
     "prompt_number": 10
    },
    {
     "cell_type": "code",
     "collapsed": false,
     "input": [
      "logit.predict(predict_set[features])"
     ],
     "language": "python",
     "metadata": {},
     "outputs": [
      {
       "output_type": "pyout",
       "prompt_number": 11,
       "text": [
        "array([1, 0, 0, 1, 1, 1, 0, 0, 1, 0, 0, 1, 1, 1, 1, 1, 0, 0, 1, 0, 0, 0, 0,\n",
        "       0, 1, 1, 1, 0, 0, 1, 1, 0, 1, 0, 0, 1, 0, 0, 1, 0, 1, 0, 1, 0, 1, 1,\n",
        "       1, 0, 0, 0, 0, 0, 1, 1, 0, 1, 0, 1, 1, 0, 0, 0, 1, 0, 0, 0, 0, 1, 0,\n",
        "       0, 1, 1, 1, 0, 0, 1, 1, 1, 1, 0, 0, 0, 0, 0, 0, 1, 0, 1, 0, 1, 0, 0,\n",
        "       0, 0, 0, 1, 1, 1, 1, 0, 1, 1, 0, 1, 1, 1, 1, 0, 1, 1, 0, 1, 1, 1, 0,\n",
        "       0, 0, 0, 0, 0, 0, 1, 1, 1, 1, 0, 1, 0, 0, 1, 1, 0, 0, 1, 1, 0, 1, 1,\n",
        "       1, 1, 1, 1, 1, 0, 0, 1, 0, 0, 1, 0, 1, 1, 0, 0, 1, 1, 1, 0, 0, 1, 1,\n",
        "       1, 1, 0, 1, 0, 1, 1, 0, 0, 0, 1, 0, 1, 0, 0, 1, 0, 1, 1, 0, 0, 1, 1,\n",
        "       0, 0, 1, 0, 1, 0, 1, 0, 0, 1, 1, 1, 0, 0, 1, 1, 0, 1, 1, 0, 0, 0, 0,\n",
        "       0, 0, 0, 1, 0, 0, 1, 0, 0, 0, 0, 1, 1, 1, 1, 1, 0, 0, 0, 0, 0, 0, 0,\n",
        "       0, 1, 0, 0, 1, 0, 0, 0, 1, 0, 1, 0, 1, 1, 1, 1, 0, 0, 1, 0, 1, 0, 1,\n",
        "       1, 1, 0, 1, 1, 0, 1, 0, 0, 1, 0, 0, 1, 0, 0, 1, 1, 1, 0, 0, 0, 1, 1,\n",
        "       1, 0, 0, 1, 0, 0, 1, 0, 1, 0, 1, 1, 1, 1, 1, 1, 1, 0, 1, 1, 0, 1, 1,\n",
        "       1, 1, 0, 1, 1, 0, 0, 1, 0, 1, 0, 0, 1, 0, 1, 1, 0, 0, 1, 1, 1, 0, 0,\n",
        "       1, 0, 0, 0, 1, 1, 0, 1, 0, 0, 1, 0, 0, 1, 0, 0, 0, 1, 0, 1, 1, 1, 0,\n",
        "       0, 0, 0, 1, 1, 0, 0, 0, 1, 0, 0, 1, 0, 1, 0, 0, 0, 1, 0, 1, 0, 1, 0,\n",
        "       0, 1, 1, 1, 0, 0, 1, 1, 1, 0, 1, 1, 0, 1, 1, 0, 0, 0, 1, 1, 0, 0, 0,\n",
        "       1, 0, 1, 1, 1, 0, 0, 0, 0, 0, 1, 1, 1, 0, 1, 1, 0, 0, 0, 1, 0, 0, 0,\n",
        "       0, 0, 1, 1, 0, 0, 0, 0, 0, 1, 1, 1, 0, 1, 1, 0, 1, 0, 1, 0, 0, 0, 0,\n",
        "       1, 1, 0, 1, 1, 1, 1, 0, 1, 0, 0, 1, 1, 0, 0, 1, 0, 1, 1, 0, 1, 1, 0,\n",
        "       1, 1, 0, 0, 0, 0, 0, 0, 1, 1, 1, 0, 0, 1, 1, 0, 1, 0, 0, 0, 1, 0, 0,\n",
        "       1, 0, 0, 1, 0, 1, 1, 0, 0, 0, 0, 0, 1, 1, 0, 0, 0], dtype=int32)"
       ]
      }
     ],
     "prompt_number": 11
    },
    {
     "cell_type": "code",
     "collapsed": false,
     "input": [
      "predict_set.ix[0]"
     ],
     "language": "python",
     "metadata": {},
     "outputs": [
      {
       "output_type": "pyout",
       "prompt_number": 12,
       "text": [
        "F1    -0.568053\n",
        "F10   -0.273414\n",
        "F11   -0.680509\n",
        "F12   -0.227929\n",
        "F13    0.407189\n",
        "F14   -0.165521\n",
        "F15   -0.402728\n",
        "F16   -1.015678\n",
        "F17   -0.570507\n",
        "F18    0.666642\n",
        "F19   -0.014909\n",
        "F2     0.207775\n",
        "F20    2.439002\n",
        "F21    2.039487\n",
        "F22    0.000000\n",
        "F23    0.000000\n",
        "F3     0.281312\n",
        "F4    -1.110550\n",
        "F5    -0.724545\n",
        "F6     0.454266\n",
        "F7    -0.158888\n",
        "F8    -0.222661\n",
        "F9    -0.279175\n",
        "Name: 3rCWr, dtype: float64"
       ]
      }
     ],
     "prompt_number": 12
    },
    {
     "cell_type": "code",
     "collapsed": false,
     "input": [
      "f = open('Raw_Data/output00.txt')\n",
      "cv_res = import_cv_results(f)\n",
      "f.close()"
     ],
     "language": "python",
     "metadata": {},
     "outputs": [],
     "prompt_number": 13
    },
    {
     "cell_type": "code",
     "collapsed": false,
     "input": [
      "cv_results = pd.DataFrame(cv_res).set_index('ID')"
     ],
     "language": "python",
     "metadata": {},
     "outputs": [],
     "prompt_number": 14
    },
    {
     "cell_type": "code",
     "collapsed": false,
     "input": [
      "cv_results.head()"
     ],
     "language": "python",
     "metadata": {},
     "outputs": [
      {
       "html": [
        "<div style=\"max-height:1000px;max-width:1500px;overflow:auto;\">\n",
        "<table border=\"1\" class=\"dataframe\">\n",
        "  <thead>\n",
        "    <tr style=\"text-align: right;\">\n",
        "      <th></th>\n",
        "      <th>Label</th>\n",
        "    </tr>\n",
        "    <tr>\n",
        "      <th>ID</th>\n",
        "      <th></th>\n",
        "    </tr>\n",
        "  </thead>\n",
        "  <tbody>\n",
        "    <tr>\n",
        "      <th>3rCWr</th>\n",
        "      <td> +1</td>\n",
        "    </tr>\n",
        "    <tr>\n",
        "      <th>snInN</th>\n",
        "      <td> -1</td>\n",
        "    </tr>\n",
        "    <tr>\n",
        "      <th>ibfT7</th>\n",
        "      <td> -1</td>\n",
        "    </tr>\n",
        "    <tr>\n",
        "      <th>IcbKR</th>\n",
        "      <td> +1</td>\n",
        "    </tr>\n",
        "    <tr>\n",
        "      <th>SIXmF</th>\n",
        "      <td> +1</td>\n",
        "    </tr>\n",
        "  </tbody>\n",
        "</table>\n",
        "</div>"
       ],
       "output_type": "pyout",
       "prompt_number": 15,
       "text": [
        "      Label\n",
        "ID         \n",
        "3rCWr    +1\n",
        "snInN    -1\n",
        "ibfT7    -1\n",
        "IcbKR    +1\n",
        "SIXmF    +1"
       ]
      }
     ],
     "prompt_number": 15
    },
    {
     "cell_type": "code",
     "collapsed": false,
     "input": [],
     "language": "python",
     "metadata": {},
     "outputs": [],
     "prompt_number": 15
    },
    {
     "cell_type": "code",
     "collapsed": false,
     "input": [
      "cv_comp = pd.merge(predict_set, cv_results, left_index=True, right_index=True, how='left')"
     ],
     "language": "python",
     "metadata": {},
     "outputs": [],
     "prompt_number": 16
    },
    {
     "cell_type": "code",
     "collapsed": false,
     "input": [
      "cv_comp.head()"
     ],
     "language": "python",
     "metadata": {},
     "outputs": [
      {
       "html": [
        "<pre>\n",
        "&lt;class 'pandas.core.frame.DataFrame'&gt;\n",
        "Index: 5 entries, 3rCWr to SIXmF\n",
        "Data columns (total 24 columns):\n",
        "F1       5  non-null values\n",
        "F10      5  non-null values\n",
        "F11      5  non-null values\n",
        "F12      5  non-null values\n",
        "F13      5  non-null values\n",
        "F14      5  non-null values\n",
        "F15      5  non-null values\n",
        "F16      5  non-null values\n",
        "F17      5  non-null values\n",
        "F18      5  non-null values\n",
        "F19      5  non-null values\n",
        "F2       5  non-null values\n",
        "F20      5  non-null values\n",
        "F21      5  non-null values\n",
        "F22      5  non-null values\n",
        "F23      5  non-null values\n",
        "F3       5  non-null values\n",
        "F4       5  non-null values\n",
        "F5       5  non-null values\n",
        "F6       5  non-null values\n",
        "F7       5  non-null values\n",
        "F8       5  non-null values\n",
        "F9       5  non-null values\n",
        "Label    5  non-null values\n",
        "dtypes: float64(23), object(1)\n",
        "</pre>"
       ],
       "output_type": "pyout",
       "prompt_number": 17,
       "text": [
        "<class 'pandas.core.frame.DataFrame'>\n",
        "Index: 5 entries, 3rCWr to SIXmF\n",
        "Data columns (total 24 columns):\n",
        "F1       5  non-null values\n",
        "F10      5  non-null values\n",
        "F11      5  non-null values\n",
        "F12      5  non-null values\n",
        "F13      5  non-null values\n",
        "F14      5  non-null values\n",
        "F15      5  non-null values\n",
        "F16      5  non-null values\n",
        "F17      5  non-null values\n",
        "F18      5  non-null values\n",
        "F19      5  non-null values\n",
        "F2       5  non-null values\n",
        "F20      5  non-null values\n",
        "F21      5  non-null values\n",
        "F22      5  non-null values\n",
        "F23      5  non-null values\n",
        "F3       5  non-null values\n",
        "F4       5  non-null values\n",
        "F5       5  non-null values\n",
        "F6       5  non-null values\n",
        "F7       5  non-null values\n",
        "F8       5  non-null values\n",
        "F9       5  non-null values\n",
        "Label    5  non-null values\n",
        "dtypes: float64(23), object(1)"
       ]
      }
     ],
     "prompt_number": 17
    },
    {
     "cell_type": "code",
     "collapsed": false,
     "input": [
      "cv_comp['pred_label'] = logit.predict(predict_set[features])"
     ],
     "language": "python",
     "metadata": {},
     "outputs": [],
     "prompt_number": 18
    },
    {
     "cell_type": "code",
     "collapsed": false,
     "input": [
      "cv_comp.head()"
     ],
     "language": "python",
     "metadata": {},
     "outputs": [
      {
       "html": [
        "<pre>\n",
        "&lt;class 'pandas.core.frame.DataFrame'&gt;\n",
        "Index: 5 entries, 3rCWr to SIXmF\n",
        "Data columns (total 25 columns):\n",
        "F1            5  non-null values\n",
        "F10           5  non-null values\n",
        "F11           5  non-null values\n",
        "F12           5  non-null values\n",
        "F13           5  non-null values\n",
        "F14           5  non-null values\n",
        "F15           5  non-null values\n",
        "F16           5  non-null values\n",
        "F17           5  non-null values\n",
        "F18           5  non-null values\n",
        "F19           5  non-null values\n",
        "F2            5  non-null values\n",
        "F20           5  non-null values\n",
        "F21           5  non-null values\n",
        "F22           5  non-null values\n",
        "F23           5  non-null values\n",
        "F3            5  non-null values\n",
        "F4            5  non-null values\n",
        "F5            5  non-null values\n",
        "F6            5  non-null values\n",
        "F7            5  non-null values\n",
        "F8            5  non-null values\n",
        "F9            5  non-null values\n",
        "Label         5  non-null values\n",
        "pred_label    5  non-null values\n",
        "dtypes: float64(23), int32(1), object(1)\n",
        "</pre>"
       ],
       "output_type": "pyout",
       "prompt_number": 19,
       "text": [
        "<class 'pandas.core.frame.DataFrame'>\n",
        "Index: 5 entries, 3rCWr to SIXmF\n",
        "Data columns (total 25 columns):\n",
        "F1            5  non-null values\n",
        "F10           5  non-null values\n",
        "F11           5  non-null values\n",
        "F12           5  non-null values\n",
        "F13           5  non-null values\n",
        "F14           5  non-null values\n",
        "F15           5  non-null values\n",
        "F16           5  non-null values\n",
        "F17           5  non-null values\n",
        "F18           5  non-null values\n",
        "F19           5  non-null values\n",
        "F2            5  non-null values\n",
        "F20           5  non-null values\n",
        "F21           5  non-null values\n",
        "F22           5  non-null values\n",
        "F23           5  non-null values\n",
        "F3            5  non-null values\n",
        "F4            5  non-null values\n",
        "F5            5  non-null values\n",
        "F6            5  non-null values\n",
        "F7            5  non-null values\n",
        "F8            5  non-null values\n",
        "F9            5  non-null values\n",
        "Label         5  non-null values\n",
        "pred_label    5  non-null values\n",
        "dtypes: float64(23), int32(1), object(1)"
       ]
      }
     ],
     "prompt_number": 19
    },
    {
     "cell_type": "code",
     "collapsed": false,
     "input": [
      "len(cv_comp)"
     ],
     "language": "python",
     "metadata": {},
     "outputs": [
      {
       "output_type": "pyout",
       "prompt_number": 20,
       "text": [
        "500"
       ]
      }
     ],
     "prompt_number": 20
    },
    {
     "cell_type": "code",
     "collapsed": false,
     "input": [
      "np.sum(cv_comp['Label']==cv_comp['pred_label'])"
     ],
     "language": "python",
     "metadata": {},
     "outputs": [
      {
       "output_type": "pyout",
       "prompt_number": 21,
       "text": [
        "0"
       ]
      }
     ],
     "prompt_number": 21
    },
    {
     "cell_type": "code",
     "collapsed": false,
     "input": [
      "cv_comp['Label']"
     ],
     "language": "python",
     "metadata": {},
     "outputs": [
      {
       "output_type": "pyout",
       "prompt_number": 22,
       "text": [
        "ID\n",
        "3rCWr    +1\n",
        "snInN    -1\n",
        "ibfT7    -1\n",
        "IcbKR    +1\n",
        "SIXmF    +1\n",
        "dLCdh    +1\n",
        "ziFJ8    -1\n",
        "1WtTD    -1\n",
        "9uIKh    +1\n",
        "df4Mc    -1\n",
        "3nxpY    -1\n",
        "aesmq    +1\n",
        "MyTDz    +1\n",
        "TDMhx    +1\n",
        "Y0rW3    +1\n",
        "...\n",
        "taDRA    -1\n",
        "ZLcrw    +1\n",
        "H4sPY    -1\n",
        "BkBE0    +1\n",
        "zLXXn    -1\n",
        "yQjNY    -1\n",
        "pWyKW    +1\n",
        "hiH6G    +1\n",
        "Ag1tS    -1\n",
        "7OD1M    -1\n",
        "VBFpQ    +1\n",
        "nP4UA    +1\n",
        "opFHG    -1\n",
        "siSyi    -1\n",
        "zmgX6    -1\n",
        "Name: Label, Length: 500, dtype: object"
       ]
      }
     ],
     "prompt_number": 22
    },
    {
     "cell_type": "code",
     "collapsed": false,
     "input": [
      "cv_comp['pred_label']"
     ],
     "language": "python",
     "metadata": {},
     "outputs": [
      {
       "output_type": "pyout",
       "prompt_number": 23,
       "text": [
        "ID\n",
        "3rCWr    1\n",
        "snInN    0\n",
        "ibfT7    0\n",
        "IcbKR    1\n",
        "SIXmF    1\n",
        "dLCdh    1\n",
        "ziFJ8    0\n",
        "1WtTD    0\n",
        "9uIKh    1\n",
        "df4Mc    0\n",
        "3nxpY    0\n",
        "aesmq    1\n",
        "MyTDz    1\n",
        "TDMhx    1\n",
        "Y0rW3    1\n",
        "...\n",
        "taDRA    0\n",
        "ZLcrw    1\n",
        "H4sPY    0\n",
        "BkBE0    1\n",
        "zLXXn    1\n",
        "yQjNY    0\n",
        "pWyKW    0\n",
        "hiH6G    0\n",
        "Ag1tS    0\n",
        "7OD1M    0\n",
        "VBFpQ    1\n",
        "nP4UA    1\n",
        "opFHG    0\n",
        "siSyi    0\n",
        "zmgX6    0\n",
        "Name: pred_label, Length: 500, dtype: int32"
       ]
      }
     ],
     "prompt_number": 23
    },
    {
     "cell_type": "code",
     "collapsed": false,
     "input": [
      "def label_adj(x):\n",
      "    if x==1: return \"+1\"\n",
      "    else: return \"-1\"\n",
      "cv_comp['f_pred_label'] = cv_comp['pred_label'].map(label_adj)"
     ],
     "language": "python",
     "metadata": {},
     "outputs": [],
     "prompt_number": 24
    },
    {
     "cell_type": "code",
     "collapsed": false,
     "input": [
      "np.sum(cv_comp['Label']==cv_comp['f_pred_label'])"
     ],
     "language": "python",
     "metadata": {},
     "outputs": [
      {
       "output_type": "pyout",
       "prompt_number": 25,
       "text": [
        "404"
       ]
      }
     ],
     "prompt_number": 25
    },
    {
     "cell_type": "code",
     "collapsed": false,
     "input": [
      "training_set['Label'].value_counts()"
     ],
     "language": "python",
     "metadata": {},
     "outputs": [
      {
       "output_type": "pyout",
       "prompt_number": 26,
       "text": [
        "+1    2250\n",
        "-1    2250\n",
        "dtype: int64"
       ]
      }
     ],
     "prompt_number": 26
    },
    {
     "cell_type": "code",
     "collapsed": false,
     "input": [
      "cv_comp['Label'].value_counts()"
     ],
     "language": "python",
     "metadata": {},
     "outputs": [
      {
       "output_type": "pyout",
       "prompt_number": 27,
       "text": [
        "-1    250\n",
        "+1    250\n",
        "dtype: int64"
       ]
      }
     ],
     "prompt_number": 27
    },
    {
     "cell_type": "code",
     "collapsed": false,
     "input": [
      "logit.score(training_set[features], training_set['Label'] == \"+1\")"
     ],
     "language": "python",
     "metadata": {},
     "outputs": [
      {
       "output_type": "pyout",
       "prompt_number": 28,
       "text": [
        "0.82288888888888889"
       ]
      }
     ],
     "prompt_number": 28
    },
    {
     "cell_type": "code",
     "collapsed": false,
     "input": [
      "sys.path.append(r'/home/raja/Documents/Projects/scikit_learn_tools')\n",
      "from learning_curves import learning_curve"
     ],
     "language": "python",
     "metadata": {},
     "outputs": [],
     "prompt_number": 29
    },
    {
     "cell_type": "code",
     "collapsed": false,
     "input": [
      "error_train, error_cv = learning_curve(logit, training_set[features].as_matrix(), (training_set['Label']==\"+1\").as_matrix(), \n",
      "cv_comp[features].as_matrix(), (cv_comp['Label']==\"+1\").as_matrix())"
     ],
     "language": "python",
     "metadata": {},
     "outputs": [
      {
       "output_type": "stream",
       "stream": "stdout",
       "text": [
        "0\n",
        "1\n",
        "2"
       ]
      },
      {
       "output_type": "stream",
       "stream": "stdout",
       "text": [
        "\n",
        "3"
       ]
      },
      {
       "output_type": "stream",
       "stream": "stdout",
       "text": [
        "\n",
        "4"
       ]
      },
      {
       "output_type": "stream",
       "stream": "stdout",
       "text": [
        "\n",
        "5"
       ]
      },
      {
       "output_type": "stream",
       "stream": "stdout",
       "text": [
        "\n",
        "6"
       ]
      },
      {
       "output_type": "stream",
       "stream": "stdout",
       "text": [
        "\n",
        "7"
       ]
      },
      {
       "output_type": "stream",
       "stream": "stdout",
       "text": [
        "\n",
        "8"
       ]
      },
      {
       "output_type": "stream",
       "stream": "stdout",
       "text": [
        "\n",
        "9"
       ]
      },
      {
       "output_type": "stream",
       "stream": "stdout",
       "text": [
        "\n",
        "10"
       ]
      },
      {
       "output_type": "stream",
       "stream": "stdout",
       "text": [
        "\n",
        "11"
       ]
      },
      {
       "output_type": "stream",
       "stream": "stdout",
       "text": [
        "\n",
        "12"
       ]
      },
      {
       "output_type": "stream",
       "stream": "stdout",
       "text": [
        "\n",
        "13"
       ]
      },
      {
       "output_type": "stream",
       "stream": "stdout",
       "text": [
        "\n",
        "14"
       ]
      },
      {
       "output_type": "stream",
       "stream": "stdout",
       "text": [
        "\n",
        "15"
       ]
      },
      {
       "output_type": "stream",
       "stream": "stdout",
       "text": [
        "\n",
        "16"
       ]
      },
      {
       "output_type": "stream",
       "stream": "stdout",
       "text": [
        "\n",
        "17"
       ]
      },
      {
       "output_type": "stream",
       "stream": "stdout",
       "text": [
        "\n",
        "18"
       ]
      },
      {
       "output_type": "stream",
       "stream": "stdout",
       "text": [
        "\n",
        "19"
       ]
      },
      {
       "output_type": "stream",
       "stream": "stdout",
       "text": [
        "\n",
        "20"
       ]
      },
      {
       "output_type": "stream",
       "stream": "stdout",
       "text": [
        "\n",
        "21"
       ]
      },
      {
       "output_type": "stream",
       "stream": "stdout",
       "text": [
        "\n",
        "22"
       ]
      },
      {
       "output_type": "stream",
       "stream": "stdout",
       "text": [
        "\n",
        "23"
       ]
      },
      {
       "output_type": "stream",
       "stream": "stdout",
       "text": [
        "\n",
        "24"
       ]
      },
      {
       "output_type": "stream",
       "stream": "stdout",
       "text": [
        "\n",
        "25"
       ]
      },
      {
       "output_type": "stream",
       "stream": "stdout",
       "text": [
        "\n",
        "26"
       ]
      },
      {
       "output_type": "stream",
       "stream": "stdout",
       "text": [
        "\n",
        "27"
       ]
      },
      {
       "output_type": "stream",
       "stream": "stdout",
       "text": [
        "\n",
        "28"
       ]
      },
      {
       "output_type": "stream",
       "stream": "stdout",
       "text": [
        "\n",
        "29"
       ]
      },
      {
       "output_type": "stream",
       "stream": "stdout",
       "text": [
        "\n",
        "30"
       ]
      },
      {
       "output_type": "stream",
       "stream": "stdout",
       "text": [
        "\n",
        "31"
       ]
      },
      {
       "output_type": "stream",
       "stream": "stdout",
       "text": [
        "\n",
        "32"
       ]
      },
      {
       "output_type": "stream",
       "stream": "stdout",
       "text": [
        "\n",
        "33"
       ]
      },
      {
       "output_type": "stream",
       "stream": "stdout",
       "text": [
        "\n",
        "34"
       ]
      },
      {
       "output_type": "stream",
       "stream": "stdout",
       "text": [
        "\n",
        "35"
       ]
      },
      {
       "output_type": "stream",
       "stream": "stdout",
       "text": [
        "\n",
        "36"
       ]
      },
      {
       "output_type": "stream",
       "stream": "stdout",
       "text": [
        "\n",
        "37"
       ]
      },
      {
       "output_type": "stream",
       "stream": "stdout",
       "text": [
        "\n",
        "38"
       ]
      },
      {
       "output_type": "stream",
       "stream": "stdout",
       "text": [
        "\n",
        "39"
       ]
      },
      {
       "output_type": "stream",
       "stream": "stdout",
       "text": [
        "\n",
        "40"
       ]
      },
      {
       "output_type": "stream",
       "stream": "stdout",
       "text": [
        "\n",
        "41"
       ]
      },
      {
       "output_type": "stream",
       "stream": "stdout",
       "text": [
        "\n",
        "42"
       ]
      },
      {
       "output_type": "stream",
       "stream": "stdout",
       "text": [
        "\n",
        "43"
       ]
      },
      {
       "output_type": "stream",
       "stream": "stdout",
       "text": [
        "\n",
        "44"
       ]
      },
      {
       "output_type": "stream",
       "stream": "stdout",
       "text": [
        "\n"
       ]
      }
     ],
     "prompt_number": 30
    },
    {
     "cell_type": "code",
     "collapsed": false,
     "input": [
      "import matplotlib.pyplot as pyplot\n",
      "#pylab inline\n",
      "x_axis = np.arange(0, training_set.shape[0], 100)\n",
      "x_axis.shape\n",
      "\n",
      "pyplot.plot(x_axis, error_train, x_axis, error_cv)\n",
      "pyplot.show()"
     ],
     "language": "python",
     "metadata": {},
     "outputs": [
      {
       "output_type": "display_data",
       "png": "[encoded data removed]"
      }
     ],
     "prompt_number": 31
    },
    {
     "cell_type": "code",
     "collapsed": false,
     "input": [
      "from sklearn.svm import SVC\n",
      "from sklearn.grid_search import GridSearchCV\n",
      "gamma_range = 10.0 ** np.arange(-2, 9)\n",
      "C_range = 10.0 ** np.arange(-5, 4)\n",
      "parameters = [{'kernel': ['rbf'], 'gamma' : gamma_range, 'C' : C_range}]\n",
      "clf = GridSearchCV(SVC(C=1), parameters, n_jobs=4)"
     ],
     "language": "python",
     "metadata": {},
     "outputs": [],
     "prompt_number": 32
    },
    {
     "cell_type": "code",
     "collapsed": false,
     "input": [
      "clf.fit(training_set[features], training_set['Label']=='+1')"
     ],
     "language": "python",
     "metadata": {},
     "outputs": [
      {
       "output_type": "pyout",
       "prompt_number": 33,
       "text": [
        "GridSearchCV(cv=None,\n",
        "       estimator=SVC(C=1, cache_size=200, class_weight=None, coef0=0.0, degree=3, gamma=0.0,\n",
        "  kernel='rbf', probability=False, shrinking=True, tol=0.001,\n",
        "  verbose=False),\n",
        "       fit_params={}, iid=True, loss_func=None, n_jobs=4,\n",
        "       param_grid=[{'kernel': ['rbf'], 'C': array([  1.00000e-05,   1.00000e-04,   1.00000e-03,   1.00000e-02,\n",
        "         1.00000e-01,   1.00000e+00,   1.00000e+01,   1.00000e+02,\n",
        "         1.00000e+03]), 'gamma': array([  1.00000e-02,   1.00000e-01,   1.00000e+00,   1.00000e+01,\n",
        "         1.00000e+02,   1.00000e+03,   1.00000e+04,   1.00000e+05,\n",
        "         1.00000e+06,   1.00000e+07,   1.00000e+08])}],\n",
        "       pre_dispatch='2*n_jobs', refit=True, score_func=None, verbose=0)"
       ]
      }
     ],
     "prompt_number": 33
    },
    {
     "cell_type": "code",
     "collapsed": false,
     "input": [
      "clf.best_params_"
     ],
     "language": "python",
     "metadata": {},
     "outputs": [
      {
       "output_type": "pyout",
       "prompt_number": 34,
       "text": [
        "{'C': 10.0, 'gamma': 0.01, 'kernel': 'rbf'}"
       ]
      }
     ],
     "prompt_number": 34
    },
    {
     "cell_type": "code",
     "collapsed": false,
     "input": [
      "from sklearn import tree\n",
      "from sklearn.metrics import classification_report\n",
      "tlf = tree.DecisionTreeClassifier()\n",
      "tlf = tlf.fit(training_set[features], training_set['Label']=='+1')\n",
      "y_pred = clf.predict(cv_comp[features])\n",
      "y_act = cv_comp['Label']=='+1'\n",
      "print classification_report(y_act, y_pred)"
     ],
     "language": "python",
     "metadata": {},
     "outputs": [
      {
       "output_type": "stream",
       "stream": "stdout",
       "text": [
        "             precision    recall  f1-score   support\n",
        "\n",
        "          0       0.81      0.79      0.80       250\n",
        "          1       0.80      0.81      0.80       250\n",
        "\n",
        "avg / total       0.80      0.80      0.80       500\n",
        "\n"
       ]
      }
     ],
     "prompt_number": 35
    },
    {
     "cell_type": "code",
     "collapsed": false,
     "input": [
      "from sklearn.naive_bayes import GaussianNB\n",
      "gnb = GaussianNB()\n",
      "y_pred1 = gnb.fit(training_set[features], training_set['Label']=='+1').predict(training_set[features])\n",
      "#y_pred = gnb.predict(cv_comp[features])\n",
      "y_act1 = training_set['Label']=='+1'\n",
      "print classification_report(y_act1, y_pred1)"
     ],
     "language": "python",
     "metadata": {},
     "outputs": [
      {
       "output_type": "stream",
       "stream": "stdout",
       "text": [
        "             precision    recall  f1-score   support\n",
        "\n",
        "          0       0.58      0.97      0.72      2250\n",
        "          1       0.90      0.29      0.44      2250\n",
        "\n",
        "avg / total       0.74      0.63      0.58      4500\n",
        "\n"
       ]
      }
     ],
     "prompt_number": 36
    },
    {
     "cell_type": "code",
     "collapsed": false,
     "input": [
      "y_pred = gnb.predict(cv_comp[features])\n",
      "#y_pred = gnb.predict(cv_comp[features])\n",
      "y_act = cv_comp['Label']=='+1'\n",
      "print classification_report(y_act, y_pred)"
     ],
     "language": "python",
     "metadata": {},
     "outputs": [
      {
       "output_type": "stream",
       "stream": "stdout",
       "text": [
        "             precision    recall  f1-score   support\n",
        "\n",
        "          0       0.56      0.98      0.71       250\n",
        "          1       0.91      0.23      0.37       250\n",
        "\n",
        "avg / total       0.73      0.60      0.54       500\n",
        "\n"
       ]
      }
     ],
     "prompt_number": 37
    },
    {
     "cell_type": "code",
     "collapsed": false,
     "input": [
      "desc = training_set.describe()"
     ],
     "language": "python",
     "metadata": {},
     "outputs": [],
     "prompt_number": 38
    },
    {
     "cell_type": "code",
     "collapsed": false,
     "input": [
      "desc['F8']"
     ],
     "language": "python",
     "metadata": {},
     "outputs": [
      {
       "output_type": "pyout",
       "prompt_number": 39,
       "text": [
        "count    4.500000e+03\n",
        "mean    -5.667935e-16\n",
        "std      1.000111e+00\n",
        "min     -2.226608e-01\n",
        "25%     -2.226608e-01\n",
        "50%     -2.226608e-01\n",
        "75%     -2.226608e-01\n",
        "max      1.514012e+01\n",
        "Name: F8, dtype: float64"
       ]
      }
     ],
     "prompt_number": 39
    },
    {
     "cell_type": "code",
     "collapsed": false,
     "input": [
      "training_set = pd.DataFrame(tset).set_index('ID')\n",
      "predict_set = pd.DataFrame(pset).set_index('ID')\n",
      "scale = Scaler().fit(training_set[features])\n",
      "#training_set[features] = Scaler().fit_transform(training_set[features])\n",
      "#predict_set[features] = Scaler().fit_transform(predict_set[features])"
     ],
     "language": "python",
     "metadata": {},
     "outputs": [],
     "prompt_number": 40
    },
    {
     "cell_type": "code",
     "collapsed": false,
     "input": [
      "scale"
     ],
     "language": "python",
     "metadata": {},
     "outputs": [
      {
       "output_type": "pyout",
       "prompt_number": 41,
       "text": [
        "Scaler(copy=True, with_mean=True, with_std=True)"
       ]
      }
     ],
     "prompt_number": 41
    },
    {
     "cell_type": "code",
     "collapsed": false,
     "input": [
      "training_set[features]=scale.transform(training_set[features])"
     ],
     "language": "python",
     "metadata": {},
     "outputs": [],
     "prompt_number": 42
    },
    {
     "cell_type": "code",
     "collapsed": false,
     "input": [
      "print scale.mean_, scale.std_\n",
      "#predict_set[features] = scale.transform(predict_set[features])"
     ],
     "language": "python",
     "metadata": {},
     "outputs": [
      {
       "output_type": "stream",
       "stream": "stdout",
       "text": [
        "[  2.96554697e+12   1.57331430e+00   9.26666667e-01   3.04185085e+00\n",
        "   3.23720911e+00   1.91529921e+01   1.30473114e-01   2.41504539e-01\n",
        "   1.14222222e-01   6.95555556e-02   3.30036557e+00   2.29733333e+00\n",
        "   8.57777778e-01   2.66666667e-02   1.39555556e-01   5.07777778e-01\n",
        "   2.45555556e-01   3.03555556e-01   2.22222222e-04   7.10711111e+00\n",
        "   2.61654135e+00   0.00000000e+00   0.00000000e+00] [  5.14324058e+12   1.31967855e+00   2.60682864e-01   1.74979902e+00\n",
        "   1.78222160e+00   3.33124480e+01   8.21161552e-01   1.08462970e+00\n",
        "   4.09142675e-01   2.54396502e-01   1.19830659e+00   5.69182978e+00\n",
        "   3.49277915e-01   1.61107280e-01   3.46525327e-01   4.99939503e-01\n",
        "   4.30416106e-01   1.04470550e+00   1.49054634e-02   1.59462317e+01\n",
        "   1.12221061e+00   1.00000000e+00   1.00000000e+00]\n"
       ]
      }
     ],
     "prompt_number": 43
    },
    {
     "cell_type": "code",
     "collapsed": false,
     "input": [
      "predict_set[features] = scale.transform(predict_set[features])"
     ],
     "language": "python",
     "metadata": {},
     "outputs": [],
     "prompt_number": 44
    },
    {
     "cell_type": "code",
     "collapsed": false,
     "input": [
      "print scale.mean_, scale.std_"
     ],
     "language": "python",
     "metadata": {},
     "outputs": [
      {
       "output_type": "stream",
       "stream": "stdout",
       "text": [
        "[  2.96554697e+12   1.57331430e+00   9.26666667e-01   3.04185085e+00\n",
        "   3.23720911e+00   1.91529921e+01   1.30473114e-01   2.41504539e-01\n",
        "   1.14222222e-01   6.95555556e-02   3.30036557e+00   2.29733333e+00\n",
        "   8.57777778e-01   2.66666667e-02   1.39555556e-01   5.07777778e-01\n",
        "   2.45555556e-01   3.03555556e-01   2.22222222e-04   7.10711111e+00\n",
        "   2.61654135e+00   0.00000000e+00   0.00000000e+00] [  5.14324058e+12   1.31967855e+00   2.60682864e-01   1.74979902e+00\n",
        "   1.78222160e+00   3.33124480e+01   8.21161552e-01   1.08462970e+00\n",
        "   4.09142675e-01   2.54396502e-01   1.19830659e+00   5.69182978e+00\n",
        "   3.49277915e-01   1.61107280e-01   3.46525327e-01   4.99939503e-01\n",
        "   4.30416106e-01   1.04470550e+00   1.49054634e-02   1.59462317e+01\n",
        "   1.12221061e+00   1.00000000e+00   1.00000000e+00]\n"
       ]
      }
     ],
     "prompt_number": 45
    },
    {
     "cell_type": "code",
     "collapsed": false,
     "input": [
      "predict_set = pd.DataFrame(pset).set_index('ID')\n",
      "scale = Scaler().fit(predict_set[features])\n",
      "predict_set[features] = scale.transform(predict_set[features])"
     ],
     "language": "python",
     "metadata": {},
     "outputs": [],
     "prompt_number": 46
    },
    {
     "cell_type": "code",
     "collapsed": false,
     "input": [
      "print scale.mean_, scale.std_"
     ],
     "language": "python",
     "metadata": {},
     "outputs": [
      {
       "output_type": "stream",
       "stream": "stdout",
       "text": [
        "[  3.02678503e+12   1.50608492e+00   9.38000000e-01   3.06600168e+00\n",
        "   3.20320262e+00   1.78129603e+01   9.33125760e-02   2.04100620e-01\n",
        "   1.34000000e-01   7.20000000e-02   3.26699266e+00   2.24000000e+00\n",
        "   8.46000000e-01   2.00000000e-02   1.34000000e-01   4.76000000e-01\n",
        "   2.40000000e-01   2.84000000e-01   0.00000000e+00   7.85400000e+00\n",
        "   2.69109825e+00   0.00000000e+00   0.00000000e+00] [  5.07544769e+12   1.23456898e+00   2.41155551e-01   1.66780946e+00\n",
        "   1.71192597e+00   3.24036833e+01   5.39583942e-01   9.74933556e-01\n",
        "   6.00036666e-01   2.58487911e-01   1.22637068e+00   8.14115471e+00\n",
        "   3.60948750e-01   1.40000000e-01   3.40652315e-01   4.99423668e-01\n",
        "   4.27083130e-01   7.92050503e-01   1.00000000e+00   1.74547611e+01\n",
        "   1.15916665e+00   1.00000000e+00   1.00000000e+00]\n"
       ]
      }
     ],
     "prompt_number": 47
    },
    {
     "cell_type": "code",
     "collapsed": false,
     "input": [
      "from sklearn.metrics import roc_curve\n",
      "logit_p = gnb.predict_proba(cv_comp[features])\n",
      "fpr, tpr, thresholds = roc_curve(cv_comp['Label']=='+1', logit_p[:,1])\n",
      "pyplot.clf()\n",
      "pyplot.plot(fpr, tpr)\n",
      "pyplot.xlabel('False Positive Rate')\n",
      "pyplot.ylabel('True Positive Rate')"
     ],
     "language": "python",
     "metadata": {},
     "outputs": [
      {
       "output_type": "pyout",
       "prompt_number": 80,
       "text": [
        "<matplotlib.text.Text at 0x649ee90>"
       ]
      },
      {
       "output_type": "display_data",
       "png": "[encoded data removed]"
      }
     ],
     "prompt_number": 80
    },
    {
     "cell_type": "code",
     "collapsed": false,
     "input": [
      "index=-1\n",
      "for i, t in enumerate(thresholds):\n",
      "    if -1e-4<=(t-0.5)<=1e-4:\n",
      "        index=i\n",
      "print index"
     ],
     "language": "python",
     "metadata": {},
     "outputs": [
      {
       "output_type": "stream",
       "stream": "stdout",
       "text": [
        "-1\n"
       ]
      }
     ],
     "prompt_number": 81
    },
    {
     "cell_type": "code",
     "collapsed": false,
     "input": [
      "thresholds"
     ],
     "language": "python",
     "metadata": {},
     "outputs": [
      {
       "output_type": "pyout",
       "prompt_number": 84,
       "text": [
        "array([  0.00000000e+000,   6.25534830e-300,   1.42604970e-276,\n",
        "         3.51638213e-252,   8.30218641e-169,   3.41011975e-145,\n",
        "         1.33433487e-133,   2.51336541e-131,   1.07363536e-130,\n",
        "         9.21795588e-130,   5.58086928e-129,   1.84553208e-128,\n",
        "         3.88390216e-126,   3.80381805e-124,   5.37100451e-124,\n",
        "         2.06294438e-122,   1.88526223e-121,   2.38574847e-120,\n",
        "         5.61338040e-120,   6.77293686e-113,   3.04841289e-110,\n",
        "         3.73944311e-105,   8.49783245e-072,   3.41089401e-070,\n",
        "         7.26450047e-047,   1.74389783e-045,   1.25423161e-041,\n",
        "         1.61246898e-041,   8.03504352e-041,   4.81908064e-039,\n",
        "         2.12314683e-038,   4.39840464e-035,   5.13547323e-033,\n",
        "         1.48782875e-027,   8.55888577e-026,   1.89840422e-025,\n",
        "         4.17786444e-025,   2.33132402e-024,   1.04325657e-023,\n",
        "         1.90626781e-023,   4.78520419e-023,   2.88737558e-017,\n",
        "         6.76596516e-017,   1.54801727e-016,   2.14451402e-016,\n",
        "         2.26914647e-016,   3.45577753e-015,   9.14018586e-015,\n",
        "         2.22541968e-014,   2.51541375e-014,   3.18276859e-014,\n",
        "         4.43346631e-014,   1.08881755e-013,   1.40177705e-013,\n",
        "         2.85943917e-013,   5.76204581e-013,   6.18292390e-013,\n",
        "         1.03838188e-012,   1.46160032e-012,   1.51467095e-012,\n",
        "         2.29647954e-012,   2.54982476e-012,   2.88693360e-012,\n",
        "         6.93590404e-012,   7.63012577e-012,   1.22830915e-011,\n",
        "         1.37748116e-011,   2.93459307e-011,   7.90298296e-011,\n",
        "         8.84913791e-011,   1.09044587e-010,   1.17127333e-010,\n",
        "         1.63793897e-010,   2.05100704e-010,   4.64407756e-010,\n",
        "         7.15838850e-010,   3.50053855e-009,   2.26288695e-008,\n",
        "         2.78405938e-008,   2.87637335e-008,   3.02434047e-008,\n",
        "         3.04389099e-008,   4.80127619e-008,   7.57118543e-008,\n",
        "         8.34275933e-008,   1.00044671e-007,   1.10202540e-007,\n",
        "         1.60636657e-007,   2.65140732e-007,   3.02150821e-007,\n",
        "         4.83724112e-007,   4.99905634e-007,   5.23635803e-007,\n",
        "         6.16287889e-007,   7.45916369e-007,   7.67328339e-007,\n",
        "         1.33472652e-006,   1.34093944e-006,   1.40100113e-006,\n",
        "         1.50943226e-006,   2.27044905e-006,   2.87491784e-006,\n",
        "         3.11076908e-006,   3.32791235e-006,   3.82743889e-006,\n",
        "         5.00490981e-006,   5.03981354e-006,   5.30183523e-006,\n",
        "         5.53981657e-006,   6.13950734e-006,   6.54566874e-006,\n",
        "         7.13275943e-006,   7.53231319e-006,   7.85255604e-006,\n",
        "         9.79742053e-006,   1.08412177e-005,   1.29868739e-005,\n",
        "         1.39966364e-005,   1.45296826e-005,   1.46089523e-005,\n",
        "         1.49762890e-005,   1.54509733e-005,   1.62413380e-005,\n",
        "         1.83565627e-005,   1.89545046e-005,   2.00776011e-005,\n",
        "         2.05672677e-005,   2.08445254e-005,   2.16940297e-005,\n",
        "         2.22175841e-005,   2.23435285e-005,   2.38603068e-005,\n",
        "         2.52022819e-005,   2.55012991e-005,   2.62373121e-005,\n",
        "         2.74665141e-005,   2.81465300e-005,   2.93126430e-005,\n",
        "         2.93430194e-005,   3.95633626e-005,   3.96848145e-005,\n",
        "         4.06240118e-005,   4.27981218e-005,   4.47203040e-005,\n",
        "         4.51907956e-005,   4.61546817e-005,   4.85402562e-005,\n",
        "         4.91245435e-005,   5.29399543e-005,   5.41643599e-005,\n",
        "         5.62883047e-005,   6.27047641e-005,   6.64331523e-005,\n",
        "         7.19256668e-005,   7.37026350e-005,   7.67814368e-005,\n",
        "         7.75514145e-005,   8.76229423e-005,   9.08213377e-005,\n",
        "         9.60028657e-005,   1.03321258e-004,   1.11659025e-004,\n",
        "         1.11684782e-004,   1.16809277e-004,   1.24376212e-004,\n",
        "         1.25909760e-004,   1.47721284e-004,   1.51527351e-004,\n",
        "         1.51771201e-004,   1.55870022e-004,   1.61817740e-004,\n",
        "         1.67127848e-004,   1.78910761e-004,   1.84642331e-004,\n",
        "         1.89049078e-004,   2.11139617e-004,   2.13876721e-004,\n",
        "         2.16378317e-004,   2.19771890e-004,   2.25890459e-004,\n",
        "         2.54732769e-004,   2.65303220e-004,   2.77231277e-004,\n",
        "         3.03385428e-004,   3.08989060e-004,   3.19535965e-004,\n",
        "         3.47388940e-004,   3.84824433e-004,   4.17851817e-004,\n",
        "         4.70474427e-004,   4.75499837e-004,   4.98188859e-004,\n",
        "         5.06794072e-004,   5.36488325e-004,   5.53661867e-004,\n",
        "         5.63815439e-004,   6.29859519e-004,   6.31505397e-004,\n",
        "         6.46197266e-004,   6.85930213e-004,   6.91582316e-004,\n",
        "         7.08707181e-004,   7.62059251e-004,   7.78159150e-004,\n",
        "         8.54621136e-004,   8.55448016e-004,   9.99690819e-004,\n",
        "         1.04560899e-003,   1.12132567e-003,   1.12491930e-003,\n",
        "         1.12601212e-003,   1.20673371e-003,   1.23994816e-003,\n",
        "         1.30458304e-003,   1.37441586e-003,   1.38395645e-003,\n",
        "         1.41054982e-003,   1.41641769e-003,   1.44176470e-003,\n",
        "         1.48042150e-003,   1.54739887e-003,   1.55642854e-003,\n",
        "         1.60971197e-003,   1.65133057e-003,   1.73706513e-003,\n",
        "         1.78837058e-003,   1.80567918e-003,   1.87444921e-003,\n",
        "         1.88080537e-003,   1.95299596e-003,   2.00095704e-003,\n",
        "         2.05298899e-003,   2.10217311e-003,   2.11897349e-003,\n",
        "         2.16316223e-003,   2.18902197e-003,   2.20943288e-003,\n",
        "         2.33338166e-003,   2.41834524e-003,   2.44599654e-003,\n",
        "         2.51326012e-003,   2.67151846e-003,   2.67350687e-003,\n",
        "         2.73715387e-003,   2.74016156e-003,   2.81882199e-003,\n",
        "         2.98203484e-003,   3.18926945e-003,   3.28503883e-003,\n",
        "         3.48023170e-003,   3.68241301e-003,   3.70779401e-003,\n",
        "         4.03286668e-003,   4.12759824e-003,   4.21531457e-003,\n",
        "         4.22983697e-003,   4.25010429e-003,   4.29057567e-003,\n",
        "         4.50763883e-003,   4.64313662e-003,   4.68845129e-003,\n",
        "         4.73655142e-003,   4.93342095e-003,   4.95350765e-003,\n",
        "         5.16427202e-003,   5.21127215e-003,   5.21596220e-003,\n",
        "         5.32178500e-003,   5.56609448e-003,   5.65054752e-003,\n",
        "         5.74387961e-003,   5.78556048e-003,   5.82420459e-003,\n",
        "         5.87896198e-003,   6.37992732e-003,   6.51731101e-003,\n",
        "         6.77736542e-003,   7.01263815e-003,   7.25073631e-003,\n",
        "         7.56240962e-003,   7.65035547e-003,   7.68958680e-003,\n",
        "         7.79392457e-003,   7.92436890e-003,   8.11264421e-003,\n",
        "         8.16732731e-003,   8.32349100e-003,   8.38018531e-003,\n",
        "         8.41835627e-003,   8.46914164e-003,   8.48206184e-003,\n",
        "         8.90111500e-003,   8.99296140e-003,   9.02988400e-003,\n",
        "         9.79711427e-003,   9.88531570e-003,   9.97807642e-003,\n",
        "         1.01306376e-002,   1.03744767e-002,   1.04405402e-002,\n",
        "         1.08961165e-002,   1.11680010e-002,   1.12779080e-002,\n",
        "         1.14374676e-002,   1.25644292e-002,   1.26599977e-002,\n",
        "         1.30944440e-002,   1.34254742e-002,   1.34862520e-002,\n",
        "         1.37305186e-002,   1.37817556e-002,   1.39247358e-002,\n",
        "         1.41120743e-002,   1.44278797e-002,   1.51868152e-002,\n",
        "         1.57109210e-002,   1.60400680e-002,   1.64018169e-002,\n",
        "         1.66669330e-002,   1.74478428e-002,   1.77771126e-002,\n",
        "         1.86287291e-002,   1.93197393e-002,   1.94402895e-002,\n",
        "         2.02377557e-002,   2.04124072e-002,   2.10047020e-002,\n",
        "         2.10440168e-002,   2.17442422e-002,   2.19373419e-002,\n",
        "         2.25487062e-002,   2.42691138e-002,   2.42913445e-002,\n",
        "         2.72246645e-002,   2.77378689e-002,   2.79047668e-002,\n",
        "         2.80081491e-002,   2.86800692e-002,   3.04245967e-002,\n",
        "         3.06739555e-002,   3.11572963e-002,   3.24154155e-002,\n",
        "         3.29284173e-002,   3.34250865e-002,   3.52874714e-002,\n",
        "         3.59270480e-002,   3.70500650e-002,   3.72920916e-002,\n",
        "         3.74619970e-002,   3.95035981e-002,   3.99353561e-002,\n",
        "         4.14166436e-002,   4.22829279e-002,   4.73349191e-002,\n",
        "         4.84242732e-002,   4.91061011e-002,   5.07982083e-002,\n",
        "         5.08429218e-002,   5.10003214e-002,   5.22843841e-002,\n",
        "         5.26114041e-002,   5.78724174e-002,   5.82503857e-002,\n",
        "         5.86177154e-002,   5.93071113e-002,   6.35404497e-002,\n",
        "         6.36984752e-002,   6.39062598e-002,   6.79592914e-002,\n",
        "         6.88290646e-002,   6.97292340e-002,   6.99923720e-002,\n",
        "         7.50071317e-002,   8.08592941e-002,   8.46529036e-002,\n",
        "         8.49813635e-002,   9.01471885e-002,   9.20287977e-002,\n",
        "         9.97097017e-002,   1.00675117e-001,   1.02833469e-001,\n",
        "         1.08028716e-001,   1.10631497e-001,   1.10788973e-001,\n",
        "         1.15220825e-001,   1.22763428e-001,   1.23682195e-001,\n",
        "         1.27649905e-001,   1.34988315e-001,   1.36588363e-001,\n",
        "         1.40829928e-001,   1.52698199e-001,   1.60623880e-001,\n",
        "         1.72720564e-001,   1.75071890e-001,   1.84703356e-001,\n",
        "         1.94011572e-001,   2.01987494e-001,   2.12034712e-001,\n",
        "         2.13073098e-001,   2.14764620e-001,   2.21071019e-001,\n",
        "         2.33299263e-001,   2.43728465e-001,   2.50918857e-001,\n",
        "         2.53655867e-001,   2.54269351e-001,   2.55078255e-001,\n",
        "         2.64249668e-001,   2.70870908e-001,   2.77337445e-001,\n",
        "         2.89031363e-001,   2.91409187e-001,   2.97552956e-001,\n",
        "         2.98501967e-001,   3.04531935e-001,   3.39160500e-001,\n",
        "         3.46201234e-001,   3.59196362e-001,   3.85925427e-001,\n",
        "         3.94198891e-001,   3.97451512e-001,   4.17352105e-001,\n",
        "         4.19542570e-001,   4.35334934e-001,   4.45580428e-001,\n",
        "         4.55753568e-001,   4.57517116e-001,   4.60582488e-001,\n",
        "         4.68177154e-001,   4.71908225e-001,   6.00540557e-001,\n",
        "         6.18074847e-001,   6.44808187e-001,   6.47623475e-001,\n",
        "         6.79146789e-001,   6.83327881e-001,   7.06062427e-001,\n",
        "         7.18193348e-001,   7.27454902e-001,   7.37053670e-001,\n",
        "         7.51134439e-001,   7.63151484e-001,   7.81185016e-001,\n",
        "         7.96443727e-001,   8.09032658e-001,   8.11922496e-001,\n",
        "         8.26608357e-001,   8.27540476e-001,   8.41739881e-001,\n",
        "         8.92073530e-001,   9.30215029e-001,   9.34771015e-001,\n",
        "         9.49573642e-001,   9.50431103e-001,   9.63123186e-001,\n",
        "         9.71179710e-001,   9.74388675e-001,   9.77090816e-001,\n",
        "         9.79995832e-001,   9.80155723e-001,   9.85811884e-001,\n",
        "         9.86721912e-001,   9.87579961e-001,   9.92347749e-001,\n",
        "         9.93914394e-001,   9.94118002e-001,   9.96047916e-001,\n",
        "         9.96576895e-001,   9.97014864e-001,   9.97536999e-001,\n",
        "         9.97856889e-001,   9.98350590e-001,   9.98612832e-001,\n",
        "         9.99324330e-001,   9.99373390e-001,   9.99711609e-001,\n",
        "         9.99805505e-001,   9.99909950e-001,   9.99941866e-001,\n",
        "         9.99952871e-001,   9.99964630e-001,   9.99965020e-001,\n",
        "         9.99972641e-001,   9.99973009e-001,   9.99987887e-001,\n",
        "         9.99988497e-001,   9.99995803e-001,   9.99999975e-001,\n",
        "         1.00000000e+000,   1.00000000e+000])"
       ]
      }
     ],
     "prompt_number": 84
    },
    {
     "cell_type": "code",
     "collapsed": false,
     "input": [
      "print fpr[index-10], tpr[index-10]"
     ],
     "language": "python",
     "metadata": {},
     "outputs": [
      {
       "output_type": "stream",
       "stream": "stdout",
       "text": [
        "0.94 1.0\n"
       ]
      }
     ],
     "prompt_number": 83
    },
    {
     "cell_type": "code",
     "collapsed": false,
     "input": [
      "from sklearn.decomposition import PCA\n",
      "pca = PCA(n_components=2)\n",
      "pca.fit(training_set[features])\n",
      "pca_features = pca.transform(training_set[features])\n",
      "np.sum(pca.explained_variance_ratio_)"
     ],
     "language": "python",
     "metadata": {},
     "outputs": [
      {
       "output_type": "pyout",
       "prompt_number": 150,
       "text": [
        "0.23406375601869431"
       ]
      }
     ],
     "prompt_number": 150
    },
    {
     "cell_type": "code",
     "collapsed": false,
     "input": [
      "training_set[features].shape"
     ],
     "language": "python",
     "metadata": {},
     "outputs": [
      {
       "output_type": "pyout",
       "prompt_number": 99,
       "text": [
        "(4500, 23)"
       ]
      }
     ],
     "prompt_number": 99
    },
    {
     "cell_type": "code",
     "collapsed": false,
     "input": [
      "pca.get_params()"
     ],
     "language": "python",
     "metadata": {},
     "outputs": [
      {
       "output_type": "pyout",
       "prompt_number": 100,
       "text": [
        "{'copy': True, 'n_components': 2, 'whiten': False}"
       ]
      }
     ],
     "prompt_number": 100
    },
    {
     "cell_type": "code",
     "collapsed": false,
     "input": [
      "pyplot.scatter(pca_features[:,0], pca_features[:,1])"
     ],
     "language": "python",
     "metadata": {},
     "outputs": [
      {
       "output_type": "pyout",
       "prompt_number": 102,
       "text": [
        "<matplotlib.collections.PathCollection at 0x713f390>"
       ]
      },
      {
       "output_type": "display_data",
       "png": "[encoded data removed]"
      }
     ],
     "prompt_number": 102
    },
    {
     "cell_type": "code",
     "collapsed": false,
     "input": [
      "#lets replot this, but with the labels to distinguish whats going on\n",
      "#need to remerge the PCA features on to the training set\n",
      "pca_tset = training_set.reset_index()\n",
      "pca_ft = pd.DataFrame(pca_features, columns = ['PCA1', 'PCA2'])"
     ],
     "language": "python",
     "metadata": {},
     "outputs": [],
     "prompt_number": 111
    },
    {
     "cell_type": "code",
     "collapsed": false,
     "input": [
      "pca_tset = pd.merge(pca_tset, pca_ft, left_index=True, right_index=True, how='left')"
     ],
     "language": "python",
     "metadata": {},
     "outputs": [],
     "prompt_number": 112
    },
    {
     "cell_type": "code",
     "collapsed": false,
     "input": [
      "pca_tset.set_index(['ID'])"
     ],
     "language": "python",
     "metadata": {},
     "outputs": [
      {
       "html": [
        "<pre>\n",
        "&lt;class 'pandas.core.frame.DataFrame'&gt;\n",
        "Index: 4500 entries, Nt8FJ to urlw0\n",
        "Data columns (total 26 columns):\n",
        "F1       4500  non-null values\n",
        "F10      4500  non-null values\n",
        "F11      4500  non-null values\n",
        "F12      4500  non-null values\n",
        "F13      4500  non-null values\n",
        "F14      4500  non-null values\n",
        "F15      4500  non-null values\n",
        "F16      4500  non-null values\n",
        "F17      4500  non-null values\n",
        "F18      4500  non-null values\n",
        "F19      4500  non-null values\n",
        "F2       4500  non-null values\n",
        "F20      4500  non-null values\n",
        "F21      4500  non-null values\n",
        "F22      4500  non-null values\n",
        "F23      4500  non-null values\n",
        "F3       4500  non-null values\n",
        "F4       4500  non-null values\n",
        "F5       4500  non-null values\n",
        "F6       4500  non-null values\n",
        "F7       4500  non-null values\n",
        "F8       4500  non-null values\n",
        "F9       4500  non-null values\n",
        "Label    4500  non-null values\n",
        "PCA1     4500  non-null values\n",
        "PCA2     4500  non-null values\n",
        "dtypes: float64(25), object(1)\n",
        "</pre>"
       ],
       "output_type": "pyout",
       "prompt_number": 113,
       "text": [
        "<class 'pandas.core.frame.DataFrame'>\n",
        "Index: 4500 entries, Nt8FJ to urlw0\n",
        "Data columns (total 26 columns):\n",
        "F1       4500  non-null values\n",
        "F10      4500  non-null values\n",
        "F11      4500  non-null values\n",
        "F12      4500  non-null values\n",
        "F13      4500  non-null values\n",
        "F14      4500  non-null values\n",
        "F15      4500  non-null values\n",
        "F16      4500  non-null values\n",
        "F17      4500  non-null values\n",
        "F18      4500  non-null values\n",
        "F19      4500  non-null values\n",
        "F2       4500  non-null values\n",
        "F20      4500  non-null values\n",
        "F21      4500  non-null values\n",
        "F22      4500  non-null values\n",
        "F23      4500  non-null values\n",
        "F3       4500  non-null values\n",
        "F4       4500  non-null values\n",
        "F5       4500  non-null values\n",
        "F6       4500  non-null values\n",
        "F7       4500  non-null values\n",
        "F8       4500  non-null values\n",
        "F9       4500  non-null values\n",
        "Label    4500  non-null values\n",
        "PCA1     4500  non-null values\n",
        "PCA2     4500  non-null values\n",
        "dtypes: float64(25), object(1)"
       ]
      }
     ],
     "prompt_number": 113
    },
    {
     "cell_type": "code",
     "collapsed": false,
     "input": [
      "#subset above dataframe based on label\n",
      "tset_pos = pca_tset[pca_tset['Label']=='+1']\n",
      "tset_neg = pca_tset[pca_tset['Label']=='-1']\n",
      "fig = pyplot.figure()\n",
      "ax1 = fig.add_subplot(111)\n",
      "ax1.scatter(tset_pos['PCA1'], tset_pos['PCA2'], color='r')\n",
      "ax1.scatter(tset_neg['PCA1'], tset_neg['PCA2'], color='b')"
     ],
     "language": "python",
     "metadata": {},
     "outputs": [
      {
       "output_type": "pyout",
       "prompt_number": 120,
       "text": [
        "<matplotlib.collections.PathCollection at 0x880ca10>"
       ]
      },
      {
       "output_type": "display_data",
       "png": "[encoded data removed]"
      }
     ],
     "prompt_number": 120
    },
    {
     "cell_type": "code",
     "collapsed": false,
     "input": [
      "pca.explained_variance_ratio_"
     ],
     "language": "python",
     "metadata": {},
     "outputs": [
      {
       "output_type": "pyout",
       "prompt_number": 121,
       "text": [
        "array([ 0.13906625,  0.09499751])"
       ]
      }
     ],
     "prompt_number": 121
    },
    {
     "cell_type": "code",
     "collapsed": false,
     "input": [
      "#lets compare the means of each feature\n",
      "pos_summary = tset_pos.describe()\n",
      "neg_summary = tset_neg.describe()\n",
      "\n",
      "#take the difference between the means for each feature"
     ],
     "language": "python",
     "metadata": {},
     "outputs": [],
     "prompt_number": 136
    },
    {
     "cell_type": "code",
     "collapsed": false,
     "input": [
      "diff_summary = pos_summary - neg_summary"
     ],
     "language": "python",
     "metadata": {},
     "outputs": [],
     "prompt_number": 137
    },
    {
     "cell_type": "code",
     "collapsed": false,
     "input": [
      "tset_pos['F2'].hist()"
     ],
     "language": "python",
     "metadata": {},
     "outputs": [
      {
       "output_type": "pyout",
       "prompt_number": 156,
       "text": [
        "<matplotlib.axes.AxesSubplot at 0xef2b310>"
       ]
      },
      {
       "output_type": "display_data",
       "png": "[encoded data removed]"
      }
     ],
     "prompt_number": 156
    },
    {
     "cell_type": "code",
     "collapsed": false,
     "input": [
      "training_set['F1'].hist(by=training_set['Label'])"
     ],
     "language": "python",
     "metadata": {},
     "outputs": [
      {
       "output_type": "pyout",
       "prompt_number": 159,
       "text": [
        "array([<matplotlib.axes.AxesSubplot object at 0x114a1610>,\n",
        "       <matplotlib.axes.AxesSubplot object at 0x11662390>], dtype=object)"
       ]
      },
      {
       "output_type": "display_data",
       "png": "[encoded data removed]"
      }
     ],
     "prompt_number": 159
    },
    {
     "cell_type": "code",
     "collapsed": false,
     "input": [
      "for i in xrange(1, 24):\n",
      "    print i\n",
      "    training_set['F'+str(i)].hist(by=training_set['Label'])"
     ],
     "language": "python",
     "metadata": {},
     "outputs": [
      {
       "output_type": "stream",
       "stream": "stdout",
       "text": [
        "1\n",
        "2"
       ]
      },
      {
       "output_type": "stream",
       "stream": "stdout",
       "text": [
        "\n",
        "3"
       ]
      },
      {
       "output_type": "stream",
       "stream": "stdout",
       "text": [
        "\n",
        "4"
       ]
      },
      {
       "output_type": "stream",
       "stream": "stdout",
       "text": [
        "\n",
        "5"
       ]
      },
      {
       "output_type": "stream",
       "stream": "stdout",
       "text": [
        "\n",
        "6"
       ]
      },
      {
       "output_type": "stream",
       "stream": "stdout",
       "text": [
        "\n",
        "7"
       ]
      },
      {
       "output_type": "stream",
       "stream": "stdout",
       "text": [
        "\n",
        "8"
       ]
      },
      {
       "output_type": "stream",
       "stream": "stdout",
       "text": [
        "\n",
        "9"
       ]
      },
      {
       "output_type": "stream",
       "stream": "stdout",
       "text": [
        "\n",
        "10"
       ]
      },
      {
       "output_type": "stream",
       "stream": "stdout",
       "text": [
        "\n",
        "11"
       ]
      },
      {
       "output_type": "stream",
       "stream": "stdout",
       "text": [
        "\n",
        "12"
       ]
      },
      {
       "output_type": "stream",
       "stream": "stdout",
       "text": [
        "\n",
        "13"
       ]
      },
      {
       "output_type": "stream",
       "stream": "stdout",
       "text": [
        "\n",
        "14"
       ]
      },
      {
       "output_type": "stream",
       "stream": "stdout",
       "text": [
        "\n",
        "15"
       ]
      },
      {
       "output_type": "stream",
       "stream": "stdout",
       "text": [
        "\n",
        "16"
       ]
      },
      {
       "output_type": "stream",
       "stream": "stdout",
       "text": [
        "\n",
        "17"
       ]
      },
      {
       "output_type": "stream",
       "stream": "stdout",
       "text": [
        "\n",
        "18"
       ]
      },
      {
       "output_type": "stream",
       "stream": "stdout",
       "text": [
        "\n",
        "19"
       ]
      },
      {
       "output_type": "stream",
       "stream": "stdout",
       "text": [
        "\n",
        "20"
       ]
      },
      {
       "output_type": "stream",
       "stream": "stdout",
       "text": [
        "\n",
        "21"
       ]
      },
      {
       "output_type": "stream",
       "stream": "stdout",
       "text": [
        "\n",
        "22"
       ]
      },
      {
       "output_type": "stream",
       "stream": "stdout",
       "text": [
        "\n",
        "23"
       ]
      },
      {
       "output_type": "stream",
       "stream": "stdout",
       "text": [
        "\n"
       ]
      },
      {
       "output_type": "display_data",
       "png": "[encoded data removed]"
      },
      {
       "output_type": "display_data",
       "png": "[encoded data removed]"
      },
      {
       "output_type": "display_data",
       "png": "[encoded data removed]"
      },
      {
       "output_type": "display_data",
       "png": "[encoded data removed]"
      },
      {
       "output_type": "display_data",
       "png": "[encoded data removed]"
      },
      {
       "output_type": "display_data",
       "png": "[encoded data removed]"
      },
      {
       "output_type": "display_data",
       "png": "[encoded data removed]"
      },
      {
       "output_type": "display_data",
       "png": "[encoded data removed]"
      },
      {
       "output_type": "display_data",
       "png": "[encoded data removed]"
      },
      {
       "output_type": "display_data",
       "png": "[encoded data removed]"
      },
      {
       "output_type": "display_data",
       "png": "[encoded data removed]"
      },
      {
       "output_type": "display_data",
       "png": "[encoded data removed]"
      },
      {
       "output_type": "display_data",
       "png": "[encoded data removed]"
      },
      {
       "output_type": "display_data",
       "png": "[encoded data removed]"
      },
      {
       "output_type": "display_data",
       "png": "[encoded data removed]"
      },
      {
       "output_type": "display_data",
       "png": "[encoded data removed]"
      },
      {
       "output_type": "display_data",
       "png": "[encoded data removed]"
      },
      {
       "output_type": "display_data",
       "png": "[encoded data removed]"
      },
      {
       "output_type": "display_data",
       "png": "[encoded data removed]"
      },
      {
       "output_type": "display_data",
       "png": "[encoded data removed]"
      },
      {
       "output_type": "display_data",
       "png": "[encoded data removed]"
      },
      {
       "output_type": "display_data",
       "png": "[encoded data removed]"
      },
      {
       "output_type": "display_data",
       "png": "[encoded data removed]"
      }
     ],
     "prompt_number": 162
    },
    {
     "cell_type": "code",
     "collapsed": false,
     "input": [],
     "language": "python",
     "metadata": {},
     "outputs": []
    }
   ],
   "metadata": {}
  }
 ]
}