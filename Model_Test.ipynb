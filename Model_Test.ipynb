{
 "metadata": {
  "name": "Model_Test"
 },
 "nbformat": 3,
 "nbformat_minor": 0,
 "worksheets": [
  {
   "cells": [
    {
     "cell_type": "code",
     "collapsed": false,
     "input": [
      "from answer_classifier import *\n",
      "import sys\n",
      "sys.path.append(r'~/Documents/Projects/Quora/Answer_Classifier/Raw_Data')\n",
      "\n",
      "sys.path.append(r'/home/raja/Documents/Projects/scikit_learn_tools')\n",
      "from learning_curves import learning_curve\n",
      "\n",
      "from sklearn.linear_model import LogisticRegression\n",
      "from sklearn.preprocessing import *\n",
      "import matplotlib.pyplot as pyplot\n",
      "\n",
      "from sklearn.svm import SVC\n",
      "from sklearn.grid_search import GridSearchCV\n",
      "\n",
      "from sklearn import tree\n",
      "from sklearn.metrics import classification_report, roc_curve\n",
      "\n",
      "from sklearn.naive_bayes import GaussianNB\n",
      "\n",
      "from sklearn.decomposition import PCA\n",
      "\n",
      "from sklearn.ensemble import RandomForestClassifier, AdaBoostClassifier, GradientBoostingClassifier\n",
      "\n",
      "from sklearn import neighbors\n",
      "\n",
      "f = open('Raw_Data/input00.txt')\n",
      "M, N, q, tset, pset = import_data(f)\n",
      "f.close()\n",
      "\n",
      "training_set = pd.DataFrame(tset).set_index('ID')\n",
      "test_set = pd.DataFrame(pset).set_index('ID')\n",
      "\n",
      "features = [\"F\" + str(j) for j in xrange(1, M+1)]\n",
      "\n",
      "scale = StandardScaler().fit(training_set[features])\n",
      "training_set[features] = scale.transform(training_set[features])\n",
      "test_set[features] = scale.transform(test_set[features])\n",
      "\n",
      "f = open('Raw_Data/output00.txt')\n",
      "cv_res = import_cv_results(f)\n",
      "f.close()\n",
      "\n",
      "test_label = pd.DataFrame(cv_res).set_index('ID')\n",
      "test_set = pd.merge(test_set, test_label, left_index=True, right_index=True, how='left')\n",
      "\n",
      "training_set['Label'] = training_set['Label'] == \"+1\"\n",
      "test_set['Label'] = test_set['Label'] == \"+1\""
     ],
     "language": "python",
     "metadata": {},
     "outputs": [],
     "prompt_number": 1
    },
    {
     "cell_type": "code",
     "collapsed": false,
     "input": [
      "parameters = [{\"C\": 10.0 ** np.arange(-2,6)}]\n",
      "logit = GridSearchCV(LogisticRegression(penalty='l2', tol=0.01), parameters, n_jobs=4)\n",
      "logit.fit(training_set[features], training_set['Label'])\n",
      "test_pred = logit.predict(test_set[features])\n",
      "print classification_report(test_set['Label'].as_matrix(), test_pred)\n",
      "#error_train, error_cv = learning_curve(logit, training_set[features].as_matrix(), (training_set['Label']).as_matrix(), \n",
      "#test_set[features].as_matrix(), (test_set['Label']).as_matrix())\n",
      "\n",
      "#x_axis = np.arange(10, training_set.shape[0], 100)\n",
      "\n",
      "#pyplot.plot(x_axis, error_train, x_axis, error_cv)\n",
      "#pyplot.show()"
     ],
     "language": "python",
     "metadata": {},
     "outputs": [
      {
       "output_type": "stream",
       "stream": "stdout",
       "text": [
        "             precision    recall  f1-score   support\n",
        "\n",
        "      False       0.79      0.82      0.81       250\n",
        "       True       0.82      0.78      0.80       250\n",
        "\n",
        "avg / total       0.80      0.80      0.80       500\n",
        "\n"
       ]
      }
     ],
     "prompt_number": 2
    },
    {
     "cell_type": "code",
     "collapsed": false,
     "input": [
      "gamma_range = 10.0 ** np.arange(-2, 5)\n",
      "C_range = 10.0 ** np.arange(-5, 4)\n",
      "parameters = [{'kernel': ['rbf'], 'gamma' : gamma_range, 'C' : C_range}]\n",
      "clf = GridSearchCV(SVC(C=1), parameters, n_jobs=4)\n",
      "clf.fit(training_set[features], training_set['Label'])\n",
      "test_pred = clf.predict(test_set[features])\n",
      "print classification_report(test_set['Label'].as_matrix(), test_pred)"
     ],
     "language": "python",
     "metadata": {},
     "outputs": [
      {
       "output_type": "stream",
       "stream": "stdout",
       "text": [
        "             precision    recall  f1-score   support\n",
        "\n",
        "      False       0.81      0.79      0.80       250\n",
        "       True       0.80      0.81      0.80       250\n",
        "\n",
        "avg / total       0.80      0.80      0.80       500\n",
        "\n"
       ]
      }
     ],
     "prompt_number": 3
    },
    {
     "cell_type": "code",
     "collapsed": false,
     "input": [
      "tlf = tree.DecisionTreeClassifier()\n",
      "tlf = tlf.fit(training_set[features], training_set['Label'])\n",
      "test_pred = tlf.predict(test_set[features])\n",
      "print classification_report(test_set['Label'].as_matrix(), test_pred)"
     ],
     "language": "python",
     "metadata": {},
     "outputs": [
      {
       "output_type": "stream",
       "stream": "stdout",
       "text": [
        "             precision    recall  f1-score   support\n",
        "\n",
        "      False       0.73      0.75      0.74       250\n",
        "       True       0.75      0.73      0.74       250\n",
        "\n",
        "avg / total       0.74      0.74      0.74       500\n",
        "\n"
       ]
      }
     ],
     "prompt_number": 4
    },
    {
     "cell_type": "code",
     "collapsed": false,
     "input": [
      "gnb = GaussianNB()\n",
      "gnb.fit(training_set[features], training_set['Label'])\n",
      "test_pred = gnb.predict(test_set[features])\n",
      "\n",
      "print classification_report(test_set['Label'].as_matrix(), test_pred)\n",
      "\n",
      "logit_p = gnb.predict_proba(test_set[features])\n",
      "fpr, tpr, thresholds = roc_curve(test_set['Label'], logit_p[:,1])\n",
      "pyplot.clf()\n",
      "pyplot.plot(fpr, tpr)\n",
      "pyplot.xlabel('False Positive Rate')\n",
      "pyplot.ylabel('True Positive Rate')"
     ],
     "language": "python",
     "metadata": {},
     "outputs": [
      {
       "output_type": "stream",
       "stream": "stdout",
       "text": [
        "             precision    recall  f1-score   support\n",
        "\n",
        "      False       0.56      0.98      0.71       250\n",
        "       True       0.91      0.23      0.37       250\n",
        "\n",
        "avg / total       0.73      0.60      0.54       500\n",
        "\n"
       ]
      },
      {
       "output_type": "pyout",
       "prompt_number": 6,
       "text": [
        "<matplotlib.text.Text at 0x73f62d0>"
       ]
      },
      {
       "output_type": "display_data",
       "png": "[encoded data removed]"
      }
     ],
     "prompt_number": 6
    },
    {
     "cell_type": "code",
     "collapsed": false,
     "input": [
      "pca = PCA(n_components=2)\n",
      "pca.fit(training_set[features])\n",
      "pca_features = pca.transform(training_set[features])\n",
      "np.sum(pca.explained_variance_ratio_)\n",
      "pca_tset = training_set.reset_index()\n",
      "pca_ft = pd.DataFrame(pca_features, columns = ['PCA1', 'PCA2'])\n",
      "pca_tset = pd.merge(pca_tset, pca_ft, left_index=True, right_index=True, how='left')\n",
      "pca_tset.set_index(['ID'])\n",
      "\n",
      "#subset above dataframe based on label\n",
      "tset_pos = pca_tset[pca_tset['Label']==1]\n",
      "tset_neg = pca_tset[pca_tset['Label']==0]\n",
      "fig = pyplot.figure()\n",
      "ax1 = fig.add_subplot(111)\n",
      "ax1.scatter(tset_pos['PCA1'], tset_pos['PCA2'], color='r')\n",
      "ax1.scatter(tset_neg['PCA1'], tset_neg['PCA2'], color='b')"
     ],
     "language": "python",
     "metadata": {},
     "outputs": [
      {
       "output_type": "pyout",
       "prompt_number": 7,
       "text": [
        "<matplotlib.collections.PathCollection at 0x7690a50>"
       ]
      },
      {
       "output_type": "display_data",
       "png": "[encoded data removed]"
      }
     ],
     "prompt_number": 7
    },
    {
     "cell_type": "code",
     "collapsed": false,
     "input": [
      "#n_est = np.arange(100, 2000, 500)\n",
      "n_feat = 2 ** np.arange(1, 4)\n",
      "depth = [None] + [2*i for i in xrange(1,10)]\n",
      "split = 10**np.arange(0, 2)\n",
      "parameters = [{'max_features' : n_feat, 'max_depth' : depth, 'min_samples_split' : split}]\n",
      "forest = GridSearchCV(RandomForestClassifier(criterion='entropy', n_estimators=1000), parameters, n_jobs=4)\n",
      "forest.fit(training_set[features], training_set['Label'])\n",
      "\n",
      "test_pred = forest.predict(test_set[features])\n",
      "\n",
      "print classification_report(test_set['Label'].as_matrix(), test_pred)"
     ],
     "language": "python",
     "metadata": {},
     "outputs": [
      {
       "ename": "KeyboardInterrupt",
       "evalue": "",
       "output_type": "pyerr",
       "traceback": [
        "\u001b[0;31m---------------------------------------------------------------------------\u001b[0m\n\u001b[0;31mKeyboardInterrupt\u001b[0m                         Traceback (most recent call last)",
        "\u001b[0;32m<ipython-input-8-aea88bc0497b>\u001b[0m in \u001b[0;36m<module>\u001b[0;34m()\u001b[0m\n\u001b[1;32m      5\u001b[0m \u001b[0mparameters\u001b[0m \u001b[0;34m=\u001b[0m \u001b[0;34m[\u001b[0m\u001b[0;34m{\u001b[0m\u001b[0;34m'max_features'\u001b[0m \u001b[0;34m:\u001b[0m \u001b[0mn_feat\u001b[0m\u001b[0;34m,\u001b[0m \u001b[0;34m'max_depth'\u001b[0m \u001b[0;34m:\u001b[0m \u001b[0mdepth\u001b[0m\u001b[0;34m,\u001b[0m \u001b[0;34m'min_samples_split'\u001b[0m \u001b[0;34m:\u001b[0m \u001b[0msplit\u001b[0m\u001b[0;34m}\u001b[0m\u001b[0;34m]\u001b[0m\u001b[0;34m\u001b[0m\u001b[0m\n\u001b[1;32m      6\u001b[0m \u001b[0mforest\u001b[0m \u001b[0;34m=\u001b[0m \u001b[0mGridSearchCV\u001b[0m\u001b[0;34m(\u001b[0m\u001b[0mRandomForestClassifier\u001b[0m\u001b[0;34m(\u001b[0m\u001b[0mcriterion\u001b[0m\u001b[0;34m=\u001b[0m\u001b[0;34m'entropy'\u001b[0m\u001b[0;34m,\u001b[0m \u001b[0mn_estimators\u001b[0m\u001b[0;34m=\u001b[0m\u001b[0;36m1000\u001b[0m\u001b[0;34m)\u001b[0m\u001b[0;34m,\u001b[0m \u001b[0mparameters\u001b[0m\u001b[0;34m,\u001b[0m \u001b[0mn_jobs\u001b[0m\u001b[0;34m=\u001b[0m\u001b[0;36m4\u001b[0m\u001b[0;34m)\u001b[0m\u001b[0;34m\u001b[0m\u001b[0m\n\u001b[0;32m----> 7\u001b[0;31m \u001b[0mforest\u001b[0m\u001b[0;34m.\u001b[0m\u001b[0mfit\u001b[0m\u001b[0;34m(\u001b[0m\u001b[0mtraining_set\u001b[0m\u001b[0;34m[\u001b[0m\u001b[0mfeatures\u001b[0m\u001b[0;34m]\u001b[0m\u001b[0;34m,\u001b[0m \u001b[0mtraining_set\u001b[0m\u001b[0;34m[\u001b[0m\u001b[0;34m'Label'\u001b[0m\u001b[0;34m]\u001b[0m\u001b[0;34m)\u001b[0m\u001b[0;34m\u001b[0m\u001b[0m\n\u001b[0m\u001b[1;32m      8\u001b[0m \u001b[0;34m\u001b[0m\u001b[0m\n\u001b[1;32m      9\u001b[0m \u001b[0mtest_pred\u001b[0m \u001b[0;34m=\u001b[0m \u001b[0mforest\u001b[0m\u001b[0;34m.\u001b[0m\u001b[0mpredict\u001b[0m\u001b[0;34m(\u001b[0m\u001b[0mtest_set\u001b[0m\u001b[0;34m[\u001b[0m\u001b[0mfeatures\u001b[0m\u001b[0;34m]\u001b[0m\u001b[0;34m)\u001b[0m\u001b[0;34m\u001b[0m\u001b[0m\n",
        "\u001b[0;32m/usr/local/lib/python2.7/dist-packages/sklearn/grid_search.pyc\u001b[0m in \u001b[0;36mfit\u001b[0;34m(self, X, y, **params)\u001b[0m\n\u001b[1;32m    705\u001b[0m                           \u001b[0;34m\" The params argument will be removed in 0.15.\"\u001b[0m\u001b[0;34m,\u001b[0m\u001b[0;34m\u001b[0m\u001b[0m\n\u001b[1;32m    706\u001b[0m                           DeprecationWarning)\n\u001b[0;32m--> 707\u001b[0;31m         \u001b[0;32mreturn\u001b[0m \u001b[0mself\u001b[0m\u001b[0;34m.\u001b[0m\u001b[0m_fit\u001b[0m\u001b[0;34m(\u001b[0m\u001b[0mX\u001b[0m\u001b[0;34m,\u001b[0m \u001b[0my\u001b[0m\u001b[0;34m,\u001b[0m \u001b[0mParameterGrid\u001b[0m\u001b[0;34m(\u001b[0m\u001b[0mself\u001b[0m\u001b[0;34m.\u001b[0m\u001b[0mparam_grid\u001b[0m\u001b[0;34m)\u001b[0m\u001b[0;34m)\u001b[0m\u001b[0;34m\u001b[0m\u001b[0m\n\u001b[0m\u001b[1;32m    708\u001b[0m \u001b[0;34m\u001b[0m\u001b[0m\n\u001b[1;32m    709\u001b[0m \u001b[0;34m\u001b[0m\u001b[0m\n",
        "\u001b[0;32m/usr/local/lib/python2.7/dist-packages/sklearn/grid_search.pyc\u001b[0m in \u001b[0;36m_fit\u001b[0;34m(self, X, y, parameter_iterable)\u001b[0m\n\u001b[1;32m    491\u001b[0m                     \u001b[0mX\u001b[0m\u001b[0;34m,\u001b[0m \u001b[0my\u001b[0m\u001b[0;34m,\u001b[0m \u001b[0mbase_estimator\u001b[0m\u001b[0;34m,\u001b[0m \u001b[0mparameters\u001b[0m\u001b[0;34m,\u001b[0m \u001b[0mtrain\u001b[0m\u001b[0;34m,\u001b[0m \u001b[0mtest\u001b[0m\u001b[0;34m,\u001b[0m\u001b[0;34m\u001b[0m\u001b[0m\n\u001b[1;32m    492\u001b[0m                     self.scorer_, self.verbose, **self.fit_params)\n\u001b[0;32m--> 493\u001b[0;31m                 \u001b[0;32mfor\u001b[0m \u001b[0mparameters\u001b[0m \u001b[0;32min\u001b[0m \u001b[0mparameter_iterable\u001b[0m\u001b[0;34m\u001b[0m\u001b[0m\n\u001b[0m\u001b[1;32m    494\u001b[0m                 for train, test in cv)\n\u001b[1;32m    495\u001b[0m \u001b[0;34m\u001b[0m\u001b[0m\n",
        "\u001b[0;32m/usr/local/lib/python2.7/dist-packages/sklearn/externals/joblib/parallel.pyc\u001b[0m in \u001b[0;36m__call__\u001b[0;34m(self, iterable)\u001b[0m\n\u001b[1;32m    517\u001b[0m                 \u001b[0mself\u001b[0m\u001b[0;34m.\u001b[0m\u001b[0mdispatch\u001b[0m\u001b[0;34m(\u001b[0m\u001b[0mfunction\u001b[0m\u001b[0;34m,\u001b[0m \u001b[0margs\u001b[0m\u001b[0;34m,\u001b[0m \u001b[0mkwargs\u001b[0m\u001b[0;34m)\u001b[0m\u001b[0;34m\u001b[0m\u001b[0m\n\u001b[1;32m    518\u001b[0m \u001b[0;34m\u001b[0m\u001b[0m\n\u001b[0;32m--> 519\u001b[0;31m             \u001b[0mself\u001b[0m\u001b[0;34m.\u001b[0m\u001b[0mretrieve\u001b[0m\u001b[0;34m(\u001b[0m\u001b[0;34m)\u001b[0m\u001b[0;34m\u001b[0m\u001b[0m\n\u001b[0m\u001b[1;32m    520\u001b[0m             \u001b[0;31m# Make sure that we get a last message telling us we are done\u001b[0m\u001b[0;34m\u001b[0m\u001b[0;34m\u001b[0m\u001b[0m\n\u001b[1;32m    521\u001b[0m             \u001b[0melapsed_time\u001b[0m \u001b[0;34m=\u001b[0m \u001b[0mtime\u001b[0m\u001b[0;34m.\u001b[0m\u001b[0mtime\u001b[0m\u001b[0;34m(\u001b[0m\u001b[0;34m)\u001b[0m \u001b[0;34m-\u001b[0m \u001b[0mself\u001b[0m\u001b[0;34m.\u001b[0m\u001b[0m_start_time\u001b[0m\u001b[0;34m\u001b[0m\u001b[0m\n",
        "\u001b[0;32m/usr/local/lib/python2.7/dist-packages/sklearn/externals/joblib/parallel.pyc\u001b[0m in \u001b[0;36mretrieve\u001b[0;34m(self)\u001b[0m\n\u001b[1;32m    431\u001b[0m                             \u001b[0;31m# We can now allow subprocesses again\u001b[0m\u001b[0;34m\u001b[0m\u001b[0;34m\u001b[0m\u001b[0m\n\u001b[1;32m    432\u001b[0m                             \u001b[0mos\u001b[0m\u001b[0;34m.\u001b[0m\u001b[0menviron\u001b[0m\u001b[0;34m.\u001b[0m\u001b[0mpop\u001b[0m\u001b[0;34m(\u001b[0m\u001b[0;34m'__JOBLIB_SPAWNED_PARALLEL__'\u001b[0m\u001b[0;34m,\u001b[0m \u001b[0;36m0\u001b[0m\u001b[0;34m)\u001b[0m\u001b[0;34m\u001b[0m\u001b[0m\n\u001b[0;32m--> 433\u001b[0;31m                         \u001b[0;32mraise\u001b[0m \u001b[0mexception\u001b[0m\u001b[0;34m\u001b[0m\u001b[0m\n\u001b[0m\u001b[1;32m    434\u001b[0m                     \u001b[0;32melif\u001b[0m \u001b[0misinstance\u001b[0m\u001b[0;34m(\u001b[0m\u001b[0mexception\u001b[0m\u001b[0;34m,\u001b[0m \u001b[0mTransportableException\u001b[0m\u001b[0;34m)\u001b[0m\u001b[0;34m:\u001b[0m\u001b[0;34m\u001b[0m\u001b[0m\n\u001b[1;32m    435\u001b[0m                         \u001b[0;31m# Capture exception to add information on the local\u001b[0m\u001b[0;34m\u001b[0m\u001b[0;34m\u001b[0m\u001b[0m\n",
        "\u001b[0;31mKeyboardInterrupt\u001b[0m: "
       ]
      }
     ],
     "prompt_number": 8
    },
    {
     "cell_type": "code",
     "collapsed": false,
     "input": [
      "parameters = [{'learning_rate': 2.0**np.arange(0,3)}]\n",
      "boost = GridSearchCV(AdaBoostClassifier(n_estimators=1000), parameters)\n",
      "boost.fit(training_set[features], training_set['Label'])\n",
      "test_pred = boost.predict(test_set[features])\n",
      "print classification_report((test_set['Label']).as_matrix(), test_pred)"
     ],
     "language": "python",
     "metadata": {},
     "outputs": [
      {
       "output_type": "stream",
       "stream": "stdout",
       "text": [
        "             precision    recall  f1-score   support\n",
        "\n",
        "      False       0.83      0.84      0.84       250\n",
        "       True       0.84      0.83      0.84       250\n",
        "\n",
        "avg / total       0.84      0.84      0.84       500\n",
        "\n"
       ]
      }
     ],
     "prompt_number": 4
    },
    {
     "cell_type": "code",
     "collapsed": false,
     "input": [
      "boost.best_params_"
     ],
     "language": "python",
     "metadata": {},
     "outputs": [
      {
       "output_type": "pyout",
       "prompt_number": 5,
       "text": [
        "{'learning_rate': 1.0}"
       ]
      }
     ],
     "prompt_number": 5
    },
    {
     "cell_type": "code",
     "collapsed": false,
     "input": [
      "parameters = [{'n_neighbors': np.arange(2,30), 'weights': ['uniform', 'distance']}]\n",
      "nb = GridSearchCV(neighbors.KNeighborsClassifier(), parameters, n_jobs=4)\n",
      "nb.fit(training_set[features], training_set['Label'])\n",
      "test_pred = nb.predict(test_set[features])\n",
      "print classification_report((test_set['Label']).as_matrix(), test_pred)"
     ],
     "language": "python",
     "metadata": {},
     "outputs": [
      {
       "output_type": "stream",
       "stream": "stdout",
       "text": [
        "             precision    recall  f1-score   support\n",
        "\n",
        "      False       0.80      0.76      0.78       250\n",
        "       True       0.77      0.81      0.79       250\n",
        "\n",
        "avg / total       0.78      0.78      0.78       500\n",
        "\n"
       ]
      }
     ],
     "prompt_number": 12
    },
    {
     "cell_type": "code",
     "collapsed": false,
     "input": [
      "parameters = [{'n_estimators': [500, 1000, 2000], 'learning_rate': [0.1*i for i in xrange(1, 11)], 'max_depth': [1, 2, 4, 8]}]\n",
      "grad = GradientBoostingClassifier(n_estimators=1000, learning_rate=1.0, max_depth=1)\n",
      "grad.fit(training_set[features], training_set['Label'])\n",
      "test_pred = grad.predict(test_set[features])\n",
      "print classification_report((test_set['Label']).as_matrix(), test_pred)"
     ],
     "language": "python",
     "metadata": {},
     "outputs": [
      {
       "output_type": "stream",
       "stream": "stdout",
       "text": [
        "             precision    recall  f1-score   support\n",
        "\n",
        "      False       0.82      0.86      0.84       250\n",
        "       True       0.85      0.82      0.83       250\n",
        "\n",
        "avg / total       0.84      0.84      0.84       500\n",
        "\n"
       ]
      }
     ],
     "prompt_number": 7
    },
    {
     "cell_type": "code",
     "collapsed": false,
     "input": [
      "forest = RandomForestClassifier(n_estimators=1000, random_state=0)\n",
      "forest.fit(training_set[features], training_set['Label'])\n",
      "importances = forest.feature_importances_\n",
      "indices = np.argsort(importances)[::-1]\n",
      "\n",
      "std = np.std([tree.feature_importances_ for tree in forest.estimators_],\n",
      "             axis=0)\n",
      "\n",
      "pyplot.bar(range(23), importances[indices], yerr=std[indices], color='r', align='center')\n",
      "pyplot.xticks(range(23), indices)"
     ],
     "language": "python",
     "metadata": {},
     "outputs": [
      {
       "output_type": "pyout",
       "prompt_number": 9,
       "text": [
        "([<matplotlib.axis.XTick at 0x116ff210>,\n",
        "  <matplotlib.axis.XTick at 0x11736a50>,\n",
        "  <matplotlib.axis.XTick at 0xc5af650>,\n",
        "  <matplotlib.axis.XTick at 0xc5afd90>,\n",
        "  <matplotlib.axis.XTick at 0xc5b0450>,\n",
        "  <matplotlib.axis.XTick at 0xc5b0ad0>,\n",
        "  <matplotlib.axis.XTick at 0xc5b4190>,\n",
        "  <matplotlib.axis.XTick at 0xc5b4810>,\n",
        "  <matplotlib.axis.XTick at 0xc5b4e90>,\n",
        "  <matplotlib.axis.XTick at 0xc5b6550>,\n",
        "  <matplotlib.axis.XTick at 0xc5b6bd0>,\n",
        "  <matplotlib.axis.XTick at 0xc5b8290>,\n",
        "  <matplotlib.axis.XTick at 0xc5b8910>,\n",
        "  <matplotlib.axis.XTick at 0xc5b8f90>,\n",
        "  <matplotlib.axis.XTick at 0xc5bd650>,\n",
        "  <matplotlib.axis.XTick at 0xc5bdcd0>,\n",
        "  <matplotlib.axis.XTick at 0xc5bf390>,\n",
        "  <matplotlib.axis.XTick at 0xc5bfa10>,\n",
        "  <matplotlib.axis.XTick at 0xc5c20d0>,\n",
        "  <matplotlib.axis.XTick at 0xc5c2750>,\n",
        "  <matplotlib.axis.XTick at 0xc5c2dd0>,\n",
        "  <matplotlib.axis.XTick at 0xc5c6490>,\n",
        "  <matplotlib.axis.XTick at 0xc5c6b10>],\n",
        " <a list of 23 Text xticklabel objects>)"
       ]
      },
      {
       "output_type": "display_data",
       "png": "[encoded data removed]"
      }
     ],
     "prompt_number": 9
    },
    {
     "cell_type": "code",
     "collapsed": false,
     "input": [
      "test_pred = forest.predict(test_set[features])\n",
      "print classification_report((test_set['Label']).as_matrix(), test_pred)"
     ],
     "language": "python",
     "metadata": {},
     "outputs": [
      {
       "output_type": "stream",
       "stream": "stdout",
       "text": [
        "             precision    recall  f1-score   support\n",
        "\n",
        "      False       0.82      0.84      0.83       250\n",
        "       True       0.84      0.82      0.83       250\n",
        "\n",
        "avg / total       0.83      0.83      0.83       500\n",
        "\n"
       ]
      }
     ],
     "prompt_number": 10
    },
    {
     "cell_type": "code",
     "collapsed": false,
     "input": [
      "indices"
     ],
     "language": "python",
     "metadata": {},
     "outputs": [
      {
       "output_type": "pyout",
       "prompt_number": 11,
       "text": [
        "array([ 1, 10,  0,  4, 19,  3, 20, 11,  5,  7,  6, 14, 16, 17,  9, 15,  8,\n",
        "       12, 13,  2, 18, 21, 22])"
       ]
      }
     ],
     "prompt_number": 11
    },
    {
     "cell_type": "code",
     "collapsed": false,
     "input": [
      "top_features = [\"F\" + str(j+1) for j in indices]"
     ],
     "language": "python",
     "metadata": {},
     "outputs": [],
     "prompt_number": 25
    },
    {
     "cell_type": "code",
     "collapsed": false,
     "input": [
      "importances[indices] > 0.05"
     ],
     "language": "python",
     "metadata": {},
     "outputs": [
      {
       "output_type": "pyout",
       "prompt_number": 26,
       "text": [
        "array([ True,  True,  True,  True,  True,  True,  True, False, False,\n",
        "       False, False, False, False, False, False, False, False, False,\n",
        "       False, False, False, False, False], dtype=bool)"
       ]
      }
     ],
     "prompt_number": 26
    },
    {
     "cell_type": "code",
     "collapsed": false,
     "input": [
      "top_features[:7]"
     ],
     "language": "python",
     "metadata": {},
     "outputs": [
      {
       "output_type": "pyout",
       "prompt_number": 27,
       "text": [
        "['F2', 'F11', 'F1', 'F5', 'F20', 'F4', 'F21']"
       ]
      }
     ],
     "prompt_number": 27
    },
    {
     "cell_type": "code",
     "collapsed": false,
     "input": [
      "best_features = top_features[:11]"
     ],
     "language": "python",
     "metadata": {},
     "outputs": [],
     "prompt_number": 38
    },
    {
     "cell_type": "code",
     "collapsed": false,
     "input": [
      "gamma_range = 10.0 ** np.arange(-2, 3)\n",
      "C_range = 10.0 ** np.arange(-2, 2)\n",
      "parameters = [{'kernel': ['rbf'], 'gamma' : gamma_range, 'C' : C_range}]\n",
      "clf = GridSearchCV(SVC(C=1), parameters, n_jobs=4)\n",
      "clf.fit(training_set[best_features], training_set['Label'])\n",
      "test_pred = clf.predict(test_set[best_features])\n",
      "print classification_report(test_set['Label'].as_matrix(), test_pred)"
     ],
     "language": "python",
     "metadata": {},
     "outputs": [
      {
       "output_type": "stream",
       "stream": "stdout",
       "text": [
        "             precision    recall  f1-score   support\n",
        "\n",
        "      False       0.80      0.82      0.81       250\n",
        "       True       0.81      0.79      0.80       250\n",
        "\n",
        "avg / total       0.80      0.80      0.80       500\n",
        "\n"
       ]
      }
     ],
     "prompt_number": 30
    },
    {
     "cell_type": "code",
     "collapsed": false,
     "input": [
      "boost = AdaBoostClassifier(n_estimators=1000)\n",
      "boost.fit(training_set[best_features], training_set['Label'])\n",
      "test_pred = boost.predict(test_set[best_features])\n",
      "print classification_report((test_set['Label']).as_matrix(), test_pred)"
     ],
     "language": "python",
     "metadata": {},
     "outputs": [
      {
       "output_type": "stream",
       "stream": "stdout",
       "text": [
        "             precision    recall  f1-score   support\n",
        "\n",
        "      False       0.83      0.85      0.84       250\n",
        "       True       0.85      0.83      0.84       250\n",
        "\n",
        "avg / total       0.84      0.84      0.84       500\n",
        "\n"
       ]
      }
     ],
     "prompt_number": 40
    },
    {
     "cell_type": "code",
     "collapsed": false,
     "input": [],
     "language": "python",
     "metadata": {},
     "outputs": []
    }
   ],
   "metadata": {}
  }
 ]
}